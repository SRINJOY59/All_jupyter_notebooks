{
 "cells": [
  {
   "cell_type": "code",
   "execution_count": 1,
   "id": "bf4673bd",
   "metadata": {},
   "outputs": [],
   "source": [
    "import tensorflow\n",
    "from tensorflow import keras\n",
    "from keras.layers import Dense, Conv2D, Flatten, AveragePooling2D\n",
    "from keras import Sequential\n",
    "from keras.datasets import mnist\n"
   ]
  },
  {
   "cell_type": "code",
   "execution_count": 11,
   "id": "1e5e0255",
   "metadata": {},
   "outputs": [
    {
     "name": "stdout",
     "output_type": "stream",
     "text": [
      "(60000, 28, 28)\n"
     ]
    }
   ],
   "source": [
    "(X_train,y_train), (X_test,y_test) = mnist.load_data()\n",
    "print(X_train.shape)"
   ]
  },
  {
   "cell_type": "code",
   "execution_count": 3,
   "id": "820b3150",
   "metadata": {},
   "outputs": [],
   "source": [
    "model = Sequential()\n",
    "\n",
    "# Layer 1: Convolution Layer of 6 filters\n",
    "model.add(Conv2D(6, kernel_size=(5, 5), padding='valid', activation='tanh', input_shape=(28, 28,1)))\n",
    "model.add(AveragePooling2D(pool_size=(2, 2), strides=2, padding='valid'))\n",
    "\n",
    "# Layer 2: Convolution Layer of 16 filters\n",
    "model.add(Conv2D(16, kernel_size=(5, 5), padding='valid', activation='tanh'))\n",
    "model.add(AveragePooling2D(pool_size=(2, 2), strides=2, padding='valid'))\n",
    "\n",
    "# Flatten the output for Dense layers\n",
    "model.add(Flatten())\n",
    "\n",
    "# Layer 3: Dense layer\n",
    "model.add(Dense(120, activation='tanh'))\n",
    "\n",
    "# Layer 4: Dense layer\n",
    "model.add(Dense(84, activation='tanh'))\n",
    "\n",
    "# Layer 5: Output providing layer\n",
    "model.add(Dense(10, activation='softmax'))"
   ]
  },
  {
   "cell_type": "code",
   "execution_count": 4,
   "id": "a886aafe",
   "metadata": {},
   "outputs": [
    {
     "name": "stdout",
     "output_type": "stream",
     "text": [
      "Model: \"sequential\"\n",
      "_________________________________________________________________\n",
      " Layer (type)                Output Shape              Param #   \n",
      "=================================================================\n",
      " conv2d (Conv2D)             (None, 24, 24, 6)         156       \n",
      "                                                                 \n",
      " average_pooling2d (Average  (None, 12, 12, 6)         0         \n",
      " Pooling2D)                                                      \n",
      "                                                                 \n",
      " conv2d_1 (Conv2D)           (None, 8, 8, 16)          2416      \n",
      "                                                                 \n",
      " average_pooling2d_1 (Avera  (None, 4, 4, 16)          0         \n",
      " gePooling2D)                                                    \n",
      "                                                                 \n",
      " flatten (Flatten)           (None, 256)               0         \n",
      "                                                                 \n",
      " dense (Dense)               (None, 120)               30840     \n",
      "                                                                 \n",
      " dense_1 (Dense)             (None, 84)                10164     \n",
      "                                                                 \n",
      " dense_2 (Dense)             (None, 10)                850       \n",
      "                                                                 \n",
      "=================================================================\n",
      "Total params: 44426 (173.54 KB)\n",
      "Trainable params: 44426 (173.54 KB)\n",
      "Non-trainable params: 0 (0.00 Byte)\n",
      "_________________________________________________________________\n"
     ]
    }
   ],
   "source": [
    "# Compile the model\n",
    "model.compile(loss='categorical_crossentropy', optimizer='adam', metrics=['accuracy'])\n",
    "\n",
    "# Summary of the model architecture\n",
    "model.summary()"
   ]
  },
  {
   "cell_type": "code",
   "execution_count": 13,
   "id": "63429630",
   "metadata": {},
   "outputs": [
    {
     "name": "stdout",
     "output_type": "stream",
     "text": [
      "Epoch 1/4\n",
      "40/40 [==============================] - 25s 545ms/step - loss: 0.0132 - accuracy: 0.9961 - val_loss: 0.0422 - val_accuracy: 0.9881\n",
      "Epoch 2/4\n",
      "40/40 [==============================] - 20s 495ms/step - loss: 0.0087 - accuracy: 0.9974 - val_loss: 0.0409 - val_accuracy: 0.9883\n",
      "Epoch 3/4\n",
      "40/40 [==============================] - 20s 507ms/step - loss: 0.0075 - accuracy: 0.9979 - val_loss: 0.0404 - val_accuracy: 0.9889\n",
      "Epoch 4/4\n",
      "40/40 [==============================] - 20s 513ms/step - loss: 0.0067 - accuracy: 0.9982 - val_loss: 0.0402 - val_accuracy: 0.9893\n"
     ]
    }
   ],
   "source": [
    "from keras.utils import to_categorical\n",
    "\n",
    "# Convert target labels to one-hot encoded format\n",
    "y_train_encoded = to_categorical(y_train, num_classes=10)\n",
    "history = model.fit(X_train,y_train_encoded,epochs = 4,validation_split = 0.2, batch_size = 1200)"
   ]
  },
  {
   "cell_type": "code",
   "execution_count": 14,
   "id": "0eff8619",
   "metadata": {},
   "outputs": [
    {
     "name": "stdout",
     "output_type": "stream",
     "text": [
      "313/313 [==============================] - 4s 13ms/step\n"
     ]
    }
   ],
   "source": [
    "y_prob = model.predict(X_test)\n",
    "y_pred = y_prob.argmax(axis = 1)"
   ]
  },
  {
   "cell_type": "code",
   "execution_count": 15,
   "id": "1dcc01c8",
   "metadata": {},
   "outputs": [
    {
     "name": "stdout",
     "output_type": "stream",
     "text": [
      "Accuracy:  0.9903\n"
     ]
    }
   ],
   "source": [
    "from sklearn.metrics import accuracy_score\n",
    "print(\"Accuracy: \",accuracy_score(y_pred,y_test))"
   ]
  },
  {
   "cell_type": "code",
   "execution_count": 16,
   "id": "23f8ea85",
   "metadata": {},
   "outputs": [
    {
     "data": {
      "text/plain": [
       "[<matplotlib.lines.Line2D at 0x16d05c47f70>]"
      ]
     },
     "execution_count": 16,
     "metadata": {},
     "output_type": "execute_result"
    },
    {
     "data": {
      "image/png": "[encoded data removed]",
      "text/plain": [
       "<Figure size 640x480 with 1 Axes>"
      ]
     },
     "metadata": {},
     "output_type": "display_data"
    }
   ],
   "source": [
    "import matplotlib.pyplot as plt \n",
    "plt.plot(history.history['loss'],color = 'blue')\n",
    "plt.plot(history.history['accuracy'],color = 'red')\n",
    "plt.plot(history.history['val_accuracy'], color = 'green')"
   ]
  },
  {
   "cell_type": "code",
   "execution_count": 17,
   "id": "aade0f17",
   "metadata": {},
   "outputs": [
    {
     "data": {
      "text/plain": [
       "<matplotlib.image.AxesImage at 0x16d06dee140>"
      ]
     },
     "execution_count": 17,
     "metadata": {},
     "output_type": "execute_result"
    },
    {
     "data": {
      "image/png": "[encoded data removed]",
      "text/plain": [
       "<Figure size 640x480 with 1 Axes>"
      ]
     },
     "metadata": {},
     "output_type": "display_data"
    }
   ],
   "source": [
    "plt.imshow(X_train[3222])"
   ]
  },
  {
   "cell_type": "code",
   "execution_count": null,
   "id": "8953ee2d",
   "metadata": {},
   "outputs": [],
   "source": []
  }
 ],
 "metadata": {
  "kernelspec": {
   "display_name": "Python 3 (ipykernel)",
   "language": "python",
   "name": "python3"
  },
  "language_info": {
   "codemirror_mode": {
    "name": "ipython",
    "version": 3
   },
   "file_extension": ".py",
   "mimetype": "text/x-python",
   "name": "python",
   "nbconvert_exporter": "python",
   "pygments_lexer": "ipython3",
   "version": "3.10.9"
  }
 },
 "nbformat": 4,
 "nbformat_minor": 5
}
