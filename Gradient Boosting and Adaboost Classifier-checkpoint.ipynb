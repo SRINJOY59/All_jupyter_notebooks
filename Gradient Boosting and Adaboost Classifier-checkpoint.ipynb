{
 "cells": [
  {
   "cell_type": "code",
   "execution_count": 32,
   "id": "cd806659",
   "metadata": {},
   "outputs": [],
   "source": [
    "from sklearn.ensemble import AdaBoostClassifier\n",
    "from sklearn.ensemble import GradientBoostingClassifier\n",
    "from sklearn.datasets import load_iris\n",
    "from sklearn.model_selection import train_test_split\n",
    "from sklearn.metrics import accuracy_score\n",
    "from sklearn.tree import DecisionTreeClassifier\n",
    "import pandas as pd"
   ]
  },
  {
   "cell_type": "code",
   "execution_count": 33,
   "id": "0ebbc8e0",
   "metadata": {},
   "outputs": [],
   "source": [
    "iris = load_iris()\n",
    "X = iris.data\n",
    "y = iris.target"
   ]
  },
  {
   "cell_type": "code",
   "execution_count": 34,
   "id": "53b00241",
   "metadata": {},
   "outputs": [],
   "source": [
    "X_train, X_test, y_train, y_test = train_test_split(X, y, test_size=0.2, random_state=42)\n",
    "x_train,x_test,Y_train,Y_test = train_test_split(X,y,test_size = 0.15,random_state = 42)"
   ]
  },
  {
   "cell_type": "code",
   "execution_count": 44,
   "id": "32f5c1d9",
   "metadata": {},
   "outputs": [],
   "source": [
    "base_estimator = DecisionTreeClassifier(max_depth=1)\n",
    "gradient_boost = GradientBoostingClassifier(n_estimators=1, learning_rate=0.1, random_state=42)\n",
    "adaboost = AdaBoostClassifier(base_estimator=base_estimator, n_estimators=3, random_state=42)"
   ]
  },
  {
   "cell_type": "code",
   "execution_count": 45,
   "id": "9ef0cea3",
   "metadata": {},
   "outputs": [
    {
     "name": "stdout",
     "output_type": "stream",
     "text": [
      "Accuracy of the Adaboost Classifier: 96.66666666666667 %\n",
      "Accuracy of the Gradient Boosting Classifier: 100.0 %\n"
     ]
    },
    {
     "name": "stderr",
     "output_type": "stream",
     "text": [
      "C:\\Users\\srinj\\AppData\\Roaming\\Python\\Python310\\site-packages\\sklearn\\ensemble\\_base.py:166: FutureWarning: `base_estimator` was renamed to `estimator` in version 1.2 and will be removed in 1.4.\n",
      "  warnings.warn(\n"
     ]
    }
   ],
   "source": [
    "adaboost.fit(X_train, y_train)\n",
    "gradient_boost.fit(x_train,Y_train)\n",
    "# Predict on the test data\n",
    "y_pred = adaboost.predict(X_test)\n",
    "pred = gradient_boost.predict(x_test)\n",
    "# Calculate the accuracy of the classifier\n",
    "accuracy = accuracy_score(y_test, y_pred)\n",
    "print(\"Accuracy of the Adaboost Classifier:\", accuracy*100,\"%\")\n",
    "accuracy_gradient = accuracy_score(Y_test,pred)\n",
    "print(\"Accuracy of the Gradient Boosting Classifier:\", accuracy_gradient*100,\"%\")"
   ]
  },
  {
   "cell_type": "code",
   "execution_count": 43,
   "id": "e3745e11",
   "metadata": {},
   "outputs": [
    {
     "name": "stdout",
     "output_type": "stream",
     "text": [
      "   0\n",
      "1  1\n",
      "0  0\n",
      "2  2\n",
      "1  1\n",
      "2  1\n",
      "0  0\n",
      "1  1\n",
      "2  2\n",
      "1  1\n",
      "1  1\n",
      "2  2\n",
      "0  0\n",
      "0  0\n",
      "0  0\n",
      "0  0\n",
      "1  1\n",
      "2  2\n",
      "1  1\n",
      "1  1\n",
      "2  2\n",
      "0  0\n",
      "2  2\n",
      "0  0\n",
      "2  2\n",
      "2  2\n",
      "2  2\n",
      "2  2\n",
      "2  2\n",
      "0  0\n",
      "0  0\n"
     ]
    }
   ],
   "source": [
    "print(pd.DataFrame(y_test,y_pred))"
   ]
  },
  {
   "cell_type": "code",
   "execution_count": null,
   "id": "d2a9d910",
   "metadata": {},
   "outputs": [],
   "source": []
  }
 ],
 "metadata": {
  "kernelspec": {
   "display_name": "Python 3 (ipykernel)",
   "language": "python",
   "name": "python3"
  },
  "language_info": {
   "codemirror_mode": {
    "name": "ipython",
    "version": 3
   },
   "file_extension": ".py",
   "mimetype": "text/x-python",
   "name": "python",
   "nbconvert_exporter": "python",
   "pygments_lexer": "ipython3",
   "version": "3.10.9"
  }
 },
 "nbformat": 4,
 "nbformat_minor": 5
}
