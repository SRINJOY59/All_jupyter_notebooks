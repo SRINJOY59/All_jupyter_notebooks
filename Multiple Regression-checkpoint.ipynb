{
 "cells": [
  {
   "cell_type": "code",
   "execution_count": 1,
   "id": "a05198f2",
   "metadata": {},
   "outputs": [],
   "source": [
    "import numpy as np\n",
    "import pandas as pd\n",
    "import matplotlib.pyplot as plt"
   ]
  },
  {
   "cell_type": "code",
   "execution_count": 7,
   "id": "d01658c3",
   "metadata": {},
   "outputs": [
    {
     "name": "stdout",
     "output_type": "stream",
     "text": [
      "    Revenue (in millions)  Expenses (in millions)  Investment (in millions)  \\\n",
      "0                      10                       5                         2   \n",
      "1                       5                       3                         1   \n",
      "2                      15                       8                         4   \n",
      "3                       8                       4                         2   \n",
      "4                      12                       6                         3   \n",
      "5                       7                       4                         1   \n",
      "6                      20                      10                         5   \n",
      "7                      10                       5                         2   \n",
      "8                       5                       3                         1   \n",
      "9                      15                       8                         4   \n",
      "10                      8                       4                         2   \n",
      "11                     12                       6                         3   \n",
      "12                      7                       4                         1   \n",
      "13                     20                      10                         5   \n",
      "14                     10                       5                         2   \n",
      "15                      5                       3                         1   \n",
      "16                     15                       8                         4   \n",
      "17                      8                       4                         2   \n",
      "18                     12                       6                         3   \n",
      "19                      7                       4                         1   \n",
      "20                     20                      10                         5   \n",
      "21                     10                       5                         2   \n",
      "22                      5                       3                         1   \n",
      "23                     15                       8                         4   \n",
      "24                      8                       4                         2   \n",
      "25                     12                       6                         3   \n",
      "26                      7                       4                         1   \n",
      "27                     20                      10                         5   \n",
      "28                     10                       5                         2   \n",
      "29                      5                       3                         1   \n",
      "30                     15                       8                         4   \n",
      "31                      8                       4                         2   \n",
      "32                     12                       6                         3   \n",
      "33                      7                       4                         1   \n",
      "34                     20                      10                         5   \n",
      "35                     10                       5                         2   \n",
      "36                      5                       3                         1   \n",
      "37                     15                       8                         4   \n",
      "38                      8                       4                         2   \n",
      "39                     12                       6                         3   \n",
      "40                      7                       4                         1   \n",
      "41                     20                      10                         5   \n",
      "42                     10                       5                         2   \n",
      "43                      5                       3                         1   \n",
      "44                     15                       8                         4   \n",
      "45                      8                       4                         2   \n",
      "46                     12                       6                         3   \n",
      "47                      7                       4                         1   \n",
      "48                     20                      10                         5   \n",
      "49                     10                       5                         2   \n",
      "\n",
      "    Employees  Profit  \n",
      "0          50      20  \n",
      "1          20      10  \n",
      "2         100      25  \n",
      "3          40      15  \n",
      "4          60      18  \n",
      "5          30      12  \n",
      "6         120      30  \n",
      "7          50      20  \n",
      "8          20      10  \n",
      "9         100      25  \n",
      "10         40      15  \n",
      "11         60      18  \n",
      "12         30      12  \n",
      "13        120      30  \n",
      "14         50      20  \n",
      "15         20      10  \n",
      "16        100      25  \n",
      "17         40      15  \n",
      "18         60      18  \n",
      "19         30      12  \n",
      "20        120      30  \n",
      "21         50      20  \n",
      "22         20      10  \n",
      "23        100      25  \n",
      "24         40      15  \n",
      "25         60      18  \n",
      "26         30      12  \n",
      "27        120      30  \n",
      "28         50      20  \n",
      "29         20      10  \n",
      "30        100      25  \n",
      "31         40      15  \n",
      "32         60      18  \n",
      "33         30      12  \n",
      "34        120      30  \n",
      "35         50      20  \n",
      "36         20      10  \n",
      "37        100      25  \n",
      "38         40      15  \n",
      "39         60      18  \n",
      "40         30      12  \n",
      "41        120      30  \n",
      "42         50      20  \n",
      "43         20      10  \n",
      "44        100      25  \n",
      "45         40      15  \n",
      "46         60      18  \n",
      "47         30      12  \n",
      "48        120      30  \n",
      "49         50      20  \n"
     ]
    }
   ],
   "source": [
    "dataset = pd.read_csv('startups.csv')\n",
    "print(dataset.head(50))\n"
   ]
  },
  {
   "cell_type": "code",
   "execution_count": 43,
   "id": "8c81cd8a",
   "metadata": {},
   "outputs": [],
   "source": [
    "x = dataset.iloc[:,:-1]\n",
    "y = dataset.iloc[:,4]\n"
   ]
  },
  {
   "cell_type": "code",
   "execution_count": 44,
   "id": "bf46a0d6",
   "metadata": {},
   "outputs": [],
   "source": [
    "from sklearn.model_selection import train_test_split\n",
    "from sklearn.linear_model import LinearRegression\n"
   ]
  },
  {
   "cell_type": "code",
   "execution_count": 45,
   "id": "208c783d",
   "metadata": {},
   "outputs": [],
   "source": [
    "X_train,X_test,y_train,y_test = train_test_split(x,y,test_size = 0.2,random_state = 0)\n"
   ]
  },
  {
   "cell_type": "code",
   "execution_count": 46,
   "id": "190b0723",
   "metadata": {},
   "outputs": [
    {
     "data": {
      "text/html": [
       "<style>#sk-container-id-3 {color: black;background-color: white;}#sk-container-id-3 pre{padding: 0;}#sk-container-id-3 div.sk-toggleable {background-color: white;}#sk-container-id-3 label.sk-toggleable__label {cursor: pointer;display: block;width: 100%;margin-bottom: 0;padding: 0.3em;box-sizing: border-box;text-align: center;}#sk-container-id-3 label.sk-toggleable__label-arrow:before {content: \"▸\";float: left;margin-right: 0.25em;color: #696969;}#sk-container-id-3 label.sk-toggleable__label-arrow:hover:before {color: black;}#sk-container-id-3 div.sk-estimator:hover label.sk-toggleable__label-arrow:before {color: black;}#sk-container-id-3 div.sk-toggleable__content {max-height: 0;max-width: 0;overflow: hidden;text-align: left;background-color: #f0f8ff;}#sk-container-id-3 div.sk-toggleable__content pre {margin: 0.2em;color: black;border-radius: 0.25em;background-color: #f0f8ff;}#sk-container-id-3 input.sk-toggleable__control:checked~div.sk-toggleable__content {max-height: 200px;max-width: 100%;overflow: auto;}#sk-container-id-3 input.sk-toggleable__control:checked~label.sk-toggleable__label-arrow:before {content: \"▾\";}#sk-container-id-3 div.sk-estimator input.sk-toggleable__control:checked~label.sk-toggleable__label {background-color: #d4ebff;}#sk-container-id-3 div.sk-label input.sk-toggleable__control:checked~label.sk-toggleable__label {background-color: #d4ebff;}#sk-container-id-3 input.sk-hidden--visually {border: 0;clip: rect(1px 1px 1px 1px);clip: rect(1px, 1px, 1px, 1px);height: 1px;margin: -1px;overflow: hidden;padding: 0;position: absolute;width: 1px;}#sk-container-id-3 div.sk-estimator {font-family: monospace;background-color: #f0f8ff;border: 1px dotted black;border-radius: 0.25em;box-sizing: border-box;margin-bottom: 0.5em;}#sk-container-id-3 div.sk-estimator:hover {background-color: #d4ebff;}#sk-container-id-3 div.sk-parallel-item::after {content: \"\";width: 100%;border-bottom: 1px solid gray;flex-grow: 1;}#sk-container-id-3 div.sk-label:hover label.sk-toggleable__label {background-color: #d4ebff;}#sk-container-id-3 div.sk-serial::before {content: \"\";position: absolute;border-left: 1px solid gray;box-sizing: border-box;top: 0;bottom: 0;left: 50%;z-index: 0;}#sk-container-id-3 div.sk-serial {display: flex;flex-direction: column;align-items: center;background-color: white;padding-right: 0.2em;padding-left: 0.2em;position: relative;}#sk-container-id-3 div.sk-item {position: relative;z-index: 1;}#sk-container-id-3 div.sk-parallel {display: flex;align-items: stretch;justify-content: center;background-color: white;position: relative;}#sk-container-id-3 div.sk-item::before, #sk-container-id-3 div.sk-parallel-item::before {content: \"\";position: absolute;border-left: 1px solid gray;box-sizing: border-box;top: 0;bottom: 0;left: 50%;z-index: -1;}#sk-container-id-3 div.sk-parallel-item {display: flex;flex-direction: column;z-index: 1;position: relative;background-color: white;}#sk-container-id-3 div.sk-parallel-item:first-child::after {align-self: flex-end;width: 50%;}#sk-container-id-3 div.sk-parallel-item:last-child::after {align-self: flex-start;width: 50%;}#sk-container-id-3 div.sk-parallel-item:only-child::after {width: 0;}#sk-container-id-3 div.sk-dashed-wrapped {border: 1px dashed gray;margin: 0 0.4em 0.5em 0.4em;box-sizing: border-box;padding-bottom: 0.4em;background-color: white;}#sk-container-id-3 div.sk-label label {font-family: monospace;font-weight: bold;display: inline-block;line-height: 1.2em;}#sk-container-id-3 div.sk-label-container {text-align: center;}#sk-container-id-3 div.sk-container {/* jupyter's `normalize.less` sets `[hidden] { display: none; }` but bootstrap.min.css set `[hidden] { display: none !important; }` so we also need the `!important` here to be able to override the default hidden behavior on the sphinx rendered scikit-learn.org. See: https://github.com/scikit-learn/scikit-learn/issues/21755 */display: inline-block !important;position: relative;}#sk-container-id-3 div.sk-text-repr-fallback {display: none;}</style><div id=\"sk-container-id-3\" class=\"sk-top-container\"><div class=\"sk-text-repr-fallback\"><pre>LinearRegression()</pre><b>In a Jupyter environment, please rerun this cell to show the HTML representation or trust the notebook. <br />On GitHub, the HTML representation is unable to render, please try loading this page with nbviewer.org.</b></div><div class=\"sk-container\" hidden><div class=\"sk-item\"><div class=\"sk-estimator sk-toggleable\"><input class=\"sk-toggleable__control sk-hidden--visually\" id=\"sk-estimator-id-3\" type=\"checkbox\" checked><label for=\"sk-estimator-id-3\" class=\"sk-toggleable__label sk-toggleable__label-arrow\">LinearRegression</label><div class=\"sk-toggleable__content\"><pre>LinearRegression()</pre></div></div></div></div></div>"
      ],
      "text/plain": [
       "LinearRegression()"
      ]
     },
     "execution_count": 46,
     "metadata": {},
     "output_type": "execute_result"
    }
   ],
   "source": [
    "regressor = LinearRegression()\n",
    "regressor.fit(X_train,y_train)\n"
   ]
  },
  {
   "cell_type": "code",
   "execution_count": 47,
   "id": "db1055bb",
   "metadata": {},
   "outputs": [],
   "source": [
    "y_pred = regressor.predict(X_test)\n"
   ]
  },
  {
   "cell_type": "code",
   "execution_count": 48,
   "id": "44c391e6",
   "metadata": {},
   "outputs": [
    {
     "name": "stdout",
     "output_type": "stream",
     "text": [
      "0.9942252081289119\n"
     ]
    }
   ],
   "source": [
    "from sklearn.metrics import r2_score\n",
    "from sklearn.metrics import mean_squared_error\n",
    "score = r2_score(y_test,y_pred)\n",
    "print(score)\n"
   ]
  },
  {
   "cell_type": "code",
   "execution_count": 42,
   "id": "cdb48e78",
   "metadata": {},
   "outputs": [
    {
     "name": "stdout",
     "output_type": "stream",
     "text": [
      "[60.]\n",
      "RMSE: 7.307517712784082e-15\n"
     ]
    }
   ],
   "source": [
    "test_value = regressor.predict(X_test.iloc[[8]])\n",
    "\n",
    "# Print the predicted value\n",
    "print(test_value)\n",
    "from sklearn.metrics import mean_squared_error\n",
    "rmse = np.sqrt(mean_squared_error(y_test, y_pred))\n",
    "\n",
    "# Print the RMSE\n",
    "print('RMSE:', rmse)\n"
   ]
  },
  {
   "cell_type": "code",
   "execution_count": null,
   "id": "a03dd888",
   "metadata": {},
   "outputs": [],
   "source": [
    "\n"
   ]
  },
  {
   "cell_type": "code",
   "execution_count": null,
   "id": "a19278ac",
   "metadata": {},
   "outputs": [],
   "source": []
  }
 ],
 "metadata": {
  "kernelspec": {
   "display_name": "Python 3 (ipykernel)",
   "language": "python",
   "name": "python3"
  },
  "language_info": {
   "codemirror_mode": {
    "name": "ipython",
    "version": 3
   },
   "file_extension": ".py",
   "mimetype": "text/x-python",
   "name": "python",
   "nbconvert_exporter": "python",
   "pygments_lexer": "ipython3",
   "version": "3.10.9"
  }
 },
 "nbformat": 4,
 "nbformat_minor": 5
}
