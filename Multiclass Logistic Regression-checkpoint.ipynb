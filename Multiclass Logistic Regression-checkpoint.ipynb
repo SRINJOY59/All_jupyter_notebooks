{
 "cells": [
  {
   "cell_type": "code",
   "execution_count": 3,
   "id": "1ca4c60a",
   "metadata": {},
   "outputs": [],
   "source": [
    "import numpy as np\n",
    "import pandas as pd\n",
    "from sklearn.linear_model import LogisticRegression\n",
    "from sklearn.datasets import load_iris\n",
    "from sklearn.model_selection import train_test_split\n",
    "from sklearn.metrics import accuracy_score"
   ]
  },
  {
   "cell_type": "code",
   "execution_count": 29,
   "id": "b68f4b61",
   "metadata": {},
   "outputs": [
    {
     "name": "stdout",
     "output_type": "stream",
     "text": [
      "    sepal length (cm)  sepal width (cm)  petal length (cm)  petal width (cm)\n",
      "0                 5.1               3.5                1.4               0.2\n",
      "1                 4.9               3.0                1.4               0.2\n",
      "2                 4.7               3.2                1.3               0.2\n",
      "3                 4.6               3.1                1.5               0.2\n",
      "4                 5.0               3.6                1.4               0.2\n",
      "..                ...               ...                ...               ...\n",
      "95                5.7               3.0                4.2               1.2\n",
      "96                5.7               2.9                4.2               1.3\n",
      "97                6.2               2.9                4.3               1.3\n",
      "98                5.1               2.5                3.0               1.1\n",
      "99                5.7               2.8                4.1               1.3\n",
      "\n",
      "[100 rows x 4 columns]\n",
      "[0 0 0 0 0 0 0 0 0 0 0 0 0 0 0 0 0 0 0 0 0 0 0 0 0 0 0 0 0 0 0 0 0 0 0 0 0\n",
      " 0 0 0 0 0 0 0 0 0 0 0 0 0 1 1 1 1 1 1 1 1 1 1 1 1 1 1 1 1 1 1 1 1 1 1 1 1\n",
      " 1 1 1 1 1 1 1 1 1 1 1 1 1 1 1 1 1 1 1 1 1 1 1 1 1 1 2 2 2 2 2 2 2 2 2 2 2\n",
      " 2 2 2 2 2 2 2 2 2 2 2 2 2 2 2 2 2 2 2 2 2 2 2 2 2 2 2 2 2 2 2 2 2 2 2 2 2\n",
      " 2 2]\n"
     ]
    }
   ],
   "source": [
    "iris = load_iris()\n",
    "# Create a DataFrame using the iris data\n",
    "df = pd.DataFrame(data=iris.data, columns=iris.feature_names)\n",
    "print(df.head(100))\n",
    "print(iris['target'])"
   ]
  },
  {
   "cell_type": "code",
   "execution_count": 30,
   "id": "d06bdf98",
   "metadata": {},
   "outputs": [],
   "source": [
    "df['target'] = iris.target\n",
    "X = df.iloc[:,:-1]\n",
    "y = df.iloc[:,-1]"
   ]
  },
  {
   "cell_type": "code",
   "execution_count": 31,
   "id": "24aec58a",
   "metadata": {},
   "outputs": [],
   "source": [
    "X_train, X_test, y_train, y_test = train_test_split(X, y, test_size=0.34, random_state=42)\n"
   ]
  },
  {
   "cell_type": "code",
   "execution_count": 32,
   "id": "f0e93f53",
   "metadata": {},
   "outputs": [],
   "source": [
    "logreg = LogisticRegression(multi_class='multinomial', solver='lbfgs')"
   ]
  },
  {
   "cell_type": "code",
   "execution_count": 33,
   "id": "88d4bd94",
   "metadata": {},
   "outputs": [],
   "source": [
    "logreg.fit(X_train, y_train)\n",
    "\n",
    "# Predict the classes for the test set\n",
    "y_pred = logreg.predict(X_test)"
   ]
  },
  {
   "cell_type": "code",
   "execution_count": 39,
   "id": "289e34aa",
   "metadata": {},
   "outputs": [
    {
     "name": "stdout",
     "output_type": "stream",
     "text": [
      "Accuracy: 100.0 %\n"
     ]
    }
   ],
   "source": [
    "y_pred = logreg.predict(X_test)\n",
    "\n",
    "# Calculate the accuracy of the model\n",
    "accuracy = accuracy_score(y_test, y_pred)\n",
    "print(\"Accuracy:\", accuracy*100,\"%\")"
   ]
  },
  {
   "cell_type": "code",
   "execution_count": 35,
   "id": "ad6f82f7",
   "metadata": {},
   "outputs": [
    {
     "name": "stdout",
     "output_type": "stream",
     "text": [
      "     Actual  Predicted\n",
      "73        1          1\n",
      "18        0          0\n",
      "118       2          2\n",
      "78        1          1\n",
      "76        1          1\n",
      "31        0          0\n",
      "64        1          1\n",
      "141       2          2\n",
      "68        1          1\n",
      "82        1          1\n",
      "110       2          2\n",
      "12        0          0\n",
      "36        0          0\n",
      "9         0          0\n",
      "19        0          0\n",
      "56        1          1\n",
      "104       2          2\n",
      "69        1          1\n",
      "55        1          1\n",
      "132       2          2\n",
      "29        0          0\n",
      "127       2          2\n",
      "26        0          0\n",
      "128       2          2\n",
      "131       2          2\n",
      "145       2          2\n",
      "108       2          2\n",
      "143       2          2\n",
      "45        0          0\n",
      "30        0          0\n",
      "22        0          0\n",
      "15        0          0\n",
      "65        1          1\n",
      "11        0          0\n",
      "42        0          0\n",
      "146       2          2\n",
      "51        1          1\n",
      "27        0          0\n",
      "4         0          0\n",
      "32        0          0\n",
      "142       2          2\n",
      "85        1          1\n",
      "86        1          1\n",
      "16        0          0\n",
      "10        0          0\n",
      "81        1          1\n",
      "133       2          2\n",
      "137       2          2\n",
      "75        1          1\n",
      "109       2          2\n",
      "96        1          1\n",
      "105       2          2\n"
     ]
    }
   ],
   "source": [
    "result_df = pd.DataFrame({\n",
    "    'Actual': y_test,\n",
    "    'Predicted': y_pred\n",
    "})\n",
    "\n",
    "# Display the DataFrame\n",
    "print(result_df)"
   ]
  },
  {
   "cell_type": "code",
   "execution_count": null,
   "id": "11f21d3e",
   "metadata": {},
   "outputs": [],
   "source": []
  },
  {
   "cell_type": "code",
   "execution_count": null,
   "id": "748d77ae",
   "metadata": {},
   "outputs": [],
   "source": []
  }
 ],
 "metadata": {
  "kernelspec": {
   "display_name": "Python 3 (ipykernel)",
   "language": "python",
   "name": "python3"
  },
  "language_info": {
   "codemirror_mode": {
    "name": "ipython",
    "version": 3
   },
   "file_extension": ".py",
   "mimetype": "text/x-python",
   "name": "python",
   "nbconvert_exporter": "python",
   "pygments_lexer": "ipython3",
   "version": "3.10.9"
  }
 },
 "nbformat": 4,
 "nbformat_minor": 5
}
