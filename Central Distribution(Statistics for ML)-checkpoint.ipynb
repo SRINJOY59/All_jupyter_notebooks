{
 "cells": [
  {
   "cell_type": "code",
   "execution_count": 1,
   "id": "427a9753",
   "metadata": {},
   "outputs": [],
   "source": [
    "import numpy as np\n",
    "import pandas as pd\n"
   ]
  },
  {
   "cell_type": "code",
   "execution_count": 16,
   "id": "414be5a5",
   "metadata": {},
   "outputs": [
    {
     "name": "stdout",
     "output_type": "stream",
     "text": [
      "            Student Name  Mark\n",
      "0               John Doe    78\n",
      "1             Jane Smith    62\n",
      "2        Michael Johnson    56\n",
      "3            Emily Davis    45\n",
      "4           David Wilson    80\n",
      "5         Sarah Thompson    68\n",
      "6   Christopher Martinez    73\n",
      "7         Jessica Taylor    59\n",
      "8       Matthew Anderson    88\n",
      "9           Amanda Brown    65\n",
      "10         William Davis    70\n",
      "11        Olivia Johnson    52\n",
      "12          Ethan Thomas    84\n",
      "13         Sophia Garcia    75\n",
      "14      Andrew Hernandez    67\n",
      "15     Isabella Robinson    63\n",
      "16        James Martinez    79\n",
      "17          Mia Anderson    71\n",
      "18     Benjamin Thompson    66\n",
      "19         Abigail Davis    58\n",
      "20         Daniel Wilson    82\n",
      "21       Elizabeth Smith    76\n",
      "22        Joseph Johnson    64\n",
      "23      Charlotte Taylor    69\n",
      "24         Jackson Davis    85\n",
      "25        Madison Garcia    61\n",
      "26       Aiden Hernandez    77\n",
      "27          Harper Brown    60\n",
      "28       Samuel Robinson    74\n",
      "29         Evelyn Thomas    87\n",
      "30    Alexander Anderson    72\n",
      "31         Emily Johnson    57\n",
      "32        Jacob Martinez    83\n",
      "33           Grace Smith    81\n",
      "34          Daniel Davis    53\n",
      "35     Scarlett Thompson    70\n",
      "36        Michael Wilson    68\n",
      "37         Sophia Taylor    75\n",
      "38         Liam Anderson    89\n",
      "39             Ava Brown    63\n",
      "40           Logan Davis    76\n",
      "41           Emma Garcia    69\n",
      "42      Oliver Hernandez    54\n",
      "43     Isabella Robinson    82\n",
      "44          Lucas Thomas    74\n",
      "45           Mia Johnson    86\n",
      "46         Jackson Smith    67\n",
      "47       Amelia Martinez    80\n",
      "48          Elijah Davis    77\n",
      "49      Elizabeth Wilson    61\n",
      "50      Matthew Thompson    85\n",
      "51\n"
     ]
    }
   ],
   "source": [
    "table = pd.read_csv('marks.csv')\n",
    "print(table)\n",
    "print(len(table))\n"
   ]
  },
  {
   "cell_type": "code",
   "execution_count": 6,
   "id": "3c3c0ac7",
   "metadata": {},
   "outputs": [
    {
     "name": "stdout",
     "output_type": "stream",
     "text": [
      "70.90196078431373\n"
     ]
    }
   ],
   "source": [
    "x = table['Mark']\n",
    "print(np.mean(x))"
   ]
  },
  {
   "cell_type": "code",
   "execution_count": 40,
   "id": "674e22a0",
   "metadata": {},
   "outputs": [
    {
     "name": "stdout",
     "output_type": "stream",
     "text": [
      "71.0\n"
     ]
    },
    {
     "ename": "AttributeError",
     "evalue": "module 'numpy' has no attribute 'mode'",
     "output_type": "error",
     "traceback": [
      "\u001b[1;31m---------------------------------------------------------------------------\u001b[0m",
      "\u001b[1;31mAttributeError\u001b[0m                            Traceback (most recent call last)",
      "Cell \u001b[1;32mIn[40], line 2\u001b[0m\n\u001b[0;32m      1\u001b[0m \u001b[38;5;28mprint\u001b[39m(np\u001b[38;5;241m.\u001b[39mmedian(x))\n\u001b[1;32m----> 2\u001b[0m \u001b[38;5;28mprint\u001b[39m(\u001b[43mnp\u001b[49m\u001b[38;5;241;43m.\u001b[39;49m\u001b[43mmode\u001b[49m(x))\n",
      "File \u001b[1;32m~\\AppData\\Roaming\\Python\\Python310\\site-packages\\numpy\\__init__.py:320\u001b[0m, in \u001b[0;36m__getattr__\u001b[1;34m(attr)\u001b[0m\n\u001b[0;32m    317\u001b[0m     \u001b[38;5;28;01mfrom\u001b[39;00m \u001b[38;5;21;01m.\u001b[39;00m\u001b[38;5;21;01mtesting\u001b[39;00m \u001b[38;5;28;01mimport\u001b[39;00m Tester\n\u001b[0;32m    318\u001b[0m     \u001b[38;5;28;01mreturn\u001b[39;00m Tester\n\u001b[1;32m--> 320\u001b[0m \u001b[38;5;28;01mraise\u001b[39;00m \u001b[38;5;167;01mAttributeError\u001b[39;00m(\u001b[38;5;124m\"\u001b[39m\u001b[38;5;124mmodule \u001b[39m\u001b[38;5;132;01m{!r}\u001b[39;00m\u001b[38;5;124m has no attribute \u001b[39m\u001b[38;5;124m\"\u001b[39m\n\u001b[0;32m    321\u001b[0m                      \u001b[38;5;124m\"\u001b[39m\u001b[38;5;132;01m{!r}\u001b[39;00m\u001b[38;5;124m\"\u001b[39m\u001b[38;5;241m.\u001b[39mformat(\u001b[38;5;18m__name__\u001b[39m, attr))\n",
      "\u001b[1;31mAttributeError\u001b[0m: module 'numpy' has no attribute 'mode'"
     ]
    }
   ],
   "source": [
    "print(np.median(x))"
   ]
  },
  {
   "cell_type": "code",
   "execution_count": 41,
   "id": "c5dc0c34",
   "metadata": {},
   "outputs": [
    {
     "name": "stdout",
     "output_type": "stream",
     "text": [
      "ModeResult(mode=array([61], dtype=int64), count=array([2]))\n"
     ]
    },
    {
     "name": "stderr",
     "output_type": "stream",
     "text": [
      "C:\\Users\\srinj\\AppData\\Local\\Temp\\ipykernel_1636\\1270374654.py:3: FutureWarning: Unlike other reduction functions (e.g. `skew`, `kurtosis`), the default behavior of `mode` typically preserves the axis it acts along. In SciPy 1.11.0, this behavior will change: the default value of `keepdims` will become False, the `axis` over which the statistic is taken will be eliminated, and the value None will no longer be accepted. Set `keepdims` to True or False to avoid this warning.\n",
      "  print(stats.mode(x))\n"
     ]
    }
   ],
   "source": [
    "import scipy \n",
    "from scipy import stats\n",
    "print(stats.mode(x))\n"
   ]
  },
  {
   "cell_type": "code",
   "execution_count": 9,
   "id": "89fd3b79",
   "metadata": {},
   "outputs": [
    {
     "name": "stdout",
     "output_type": "stream",
     "text": [
      "3.0\n"
     ]
    }
   ],
   "source": [
    "a = np.array([1,2,3,4,5])\n",
    "p = np.percentile(a,50)\n",
    "print(p)\n"
   ]
  },
  {
   "cell_type": "code",
   "execution_count": 42,
   "id": "f2ad4721",
   "metadata": {},
   "outputs": [
    {
     "name": "stdout",
     "output_type": "stream",
     "text": [
      "111.30411380238372\n",
      "10.55007648324806\n"
     ]
    }
   ],
   "source": [
    "import math\n",
    "var = np.var(x)\n",
    "sd = math.sqrt(var)\n",
    "print(var)\n",
    "print(sd)"
   ]
  },
  {
   "cell_type": "code",
   "execution_count": 12,
   "id": "e905b15e",
   "metadata": {},
   "outputs": [
    {
     "name": "stdout",
     "output_type": "stream",
     "text": [
      "10.550076483248057\n",
      "10.655054954266138\n"
     ]
    }
   ],
   "source": [
    "import statistics\n",
    "print(statistics.pstdev(x))\n",
    "print(statistics.stdev(x))\n"
   ]
  },
  {
   "cell_type": "code",
   "execution_count": 37,
   "id": "f2d47038",
   "metadata": {},
   "outputs": [
    {
     "name": "stdout",
     "output_type": "stream",
     "text": [
      "-0.2512270832652697\n"
     ]
    }
   ],
   "source": [
    "from scipy.stats import skew\n",
    "print(skew(x))\n"
   ]
  },
  {
   "cell_type": "code",
   "execution_count": 38,
   "id": "b3be78db",
   "metadata": {},
   "outputs": [
    {
     "data": {
      "image/png": "[encoded data removed]",
      "text/plain": [
       "<Figure size 640x480 with 1 Axes>"
      ]
     },
     "metadata": {},
     "output_type": "display_data"
    },
    {
     "name": "stdout",
     "output_type": "stream",
     "text": [
      "Skewness: -0.2512270832652697\n"
     ]
    }
   ],
   "source": [
    "from scipy.stats import norm\n",
    "x = table['Mark']\n",
    "# Plot the Gaussian distribution curve\n",
    "x_new = np.linspace(min(x), max(x), 100)\n",
    "y_new = norm.pdf(x_new, np.mean(x), statistics.pstdev(x))\n",
    "plt.plot(x_new, y_new, linewidth=2)\n",
    "\n",
    "\n",
    "# Show the plot\n",
    "plt.xlabel('Value')\n",
    "plt.ylabel('Probability Density')\n",
    "plt.title('Gaussian Distribution')\n",
    "plt.grid(True)\n",
    "plt.show()\n",
    "skewness = skew(x)\n",
    "print(\"Skewness:\", skewness)\n"
   ]
  },
  {
   "cell_type": "code",
   "execution_count": 39,
   "id": "1d29549a",
   "metadata": {},
   "outputs": [
    {
     "data": {
      "image/png": "[encoded data removed]",
      "text/plain": [
       "<Figure size 640x480 with 1 Axes>"
      ]
     },
     "metadata": {},
     "output_type": "display_data"
    }
   ],
   "source": [
    "plt.boxplot(x,sym = '*')\n",
    "plt.show()\n"
   ]
  },
  {
   "cell_type": "code",
   "execution_count": null,
   "id": "47a70c87",
   "metadata": {},
   "outputs": [],
   "source": []
  }
 ],
 "metadata": {
  "kernelspec": {
   "display_name": "Python 3 (ipykernel)",
   "language": "python",
   "name": "python3"
  },
  "language_info": {
   "codemirror_mode": {
    "name": "ipython",
    "version": 3
   },
   "file_extension": ".py",
   "mimetype": "text/x-python",
   "name": "python",
   "nbconvert_exporter": "python",
   "pygments_lexer": "ipython3",
   "version": "3.10.9"
  }
 },
 "nbformat": 4,
 "nbformat_minor": 5
}
