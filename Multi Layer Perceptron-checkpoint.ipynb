{
 "cells": [
  {
   "cell_type": "code",
   "execution_count": 1,
   "id": "289c33e2",
   "metadata": {},
   "outputs": [],
   "source": [
    "import numpy as np\n",
    "import pandas as pd\n",
    "import matplotlib.pyplot as plt\n",
    "from sklearn.datasets import load_breast_cancer"
   ]
  },
  {
   "cell_type": "code",
   "execution_count": 2,
   "id": "96f92ee4",
   "metadata": {},
   "outputs": [],
   "source": [
    "df = load_breast_cancer()"
   ]
  },
  {
   "cell_type": "code",
   "execution_count": 3,
   "id": "87761cd3",
   "metadata": {},
   "outputs": [],
   "source": [
    "data = pd.DataFrame(df.data, columns=df.feature_names)\n",
    "\n",
    "# Add the target variable 'target' to the DataFrame\n",
    "data['target'] = df.target"
   ]
  },
  {
   "cell_type": "code",
   "execution_count": 4,
   "id": "02462950",
   "metadata": {},
   "outputs": [
    {
     "name": "stdout",
     "output_type": "stream",
     "text": [
      "     mean radius  mean texture  mean perimeter  mean area  mean smoothness  \\\n",
      "0          17.99         10.38          122.80     1001.0          0.11840   \n",
      "1          20.57         17.77          132.90     1326.0          0.08474   \n",
      "2          19.69         21.25          130.00     1203.0          0.10960   \n",
      "3          11.42         20.38           77.58      386.1          0.14250   \n",
      "4          20.29         14.34          135.10     1297.0          0.10030   \n",
      "..           ...           ...             ...        ...              ...   \n",
      "564        21.56         22.39          142.00     1479.0          0.11100   \n",
      "565        20.13         28.25          131.20     1261.0          0.09780   \n",
      "566        16.60         28.08          108.30      858.1          0.08455   \n",
      "567        20.60         29.33          140.10     1265.0          0.11780   \n",
      "568         7.76         24.54           47.92      181.0          0.05263   \n",
      "\n",
      "     mean compactness  mean concavity  mean concave points  mean symmetry  \\\n",
      "0             0.27760         0.30010              0.14710         0.2419   \n",
      "1             0.07864         0.08690              0.07017         0.1812   \n",
      "2             0.15990         0.19740              0.12790         0.2069   \n",
      "3             0.28390         0.24140              0.10520         0.2597   \n",
      "4             0.13280         0.19800              0.10430         0.1809   \n",
      "..                ...             ...                  ...            ...   \n",
      "564           0.11590         0.24390              0.13890         0.1726   \n",
      "565           0.10340         0.14400              0.09791         0.1752   \n",
      "566           0.10230         0.09251              0.05302         0.1590   \n",
      "567           0.27700         0.35140              0.15200         0.2397   \n",
      "568           0.04362         0.00000              0.00000         0.1587   \n",
      "\n",
      "     mean fractal dimension  ...  worst texture  worst perimeter  worst area  \\\n",
      "0                   0.07871  ...          17.33           184.60      2019.0   \n",
      "1                   0.05667  ...          23.41           158.80      1956.0   \n",
      "2                   0.05999  ...          25.53           152.50      1709.0   \n",
      "3                   0.09744  ...          26.50            98.87       567.7   \n",
      "4                   0.05883  ...          16.67           152.20      1575.0   \n",
      "..                      ...  ...            ...              ...         ...   \n",
      "564                 0.05623  ...          26.40           166.10      2027.0   \n",
      "565                 0.05533  ...          38.25           155.00      1731.0   \n",
      "566                 0.05648  ...          34.12           126.70      1124.0   \n",
      "567                 0.07016  ...          39.42           184.60      1821.0   \n",
      "568                 0.05884  ...          30.37            59.16       268.6   \n",
      "\n",
      "     worst smoothness  worst compactness  worst concavity  \\\n",
      "0             0.16220            0.66560           0.7119   \n",
      "1             0.12380            0.18660           0.2416   \n",
      "2             0.14440            0.42450           0.4504   \n",
      "3             0.20980            0.86630           0.6869   \n",
      "4             0.13740            0.20500           0.4000   \n",
      "..                ...                ...              ...   \n",
      "564           0.14100            0.21130           0.4107   \n",
      "565           0.11660            0.19220           0.3215   \n",
      "566           0.11390            0.30940           0.3403   \n",
      "567           0.16500            0.86810           0.9387   \n",
      "568           0.08996            0.06444           0.0000   \n",
      "\n",
      "     worst concave points  worst symmetry  worst fractal dimension  target  \n",
      "0                  0.2654          0.4601                  0.11890       0  \n",
      "1                  0.1860          0.2750                  0.08902       0  \n",
      "2                  0.2430          0.3613                  0.08758       0  \n",
      "3                  0.2575          0.6638                  0.17300       0  \n",
      "4                  0.1625          0.2364                  0.07678       0  \n",
      "..                    ...             ...                      ...     ...  \n",
      "564                0.2216          0.2060                  0.07115       0  \n",
      "565                0.1628          0.2572                  0.06637       0  \n",
      "566                0.1418          0.2218                  0.07820       0  \n",
      "567                0.2650          0.4087                  0.12400       0  \n",
      "568                0.0000          0.2871                  0.07039       1  \n",
      "\n",
      "[569 rows x 31 columns]\n"
     ]
    }
   ],
   "source": [
    "print(data)"
   ]
  },
  {
   "cell_type": "code",
   "execution_count": 5,
   "id": "7381a268",
   "metadata": {},
   "outputs": [
    {
     "name": "stdout",
     "output_type": "stream",
     "text": [
      "   mean radius  mean texture  mean perimeter  mean area  mean smoothness  \\\n",
      "0        17.99         10.38          122.80     1001.0          0.11840   \n",
      "1        20.57         17.77          132.90     1326.0          0.08474   \n",
      "2        19.69         21.25          130.00     1203.0          0.10960   \n",
      "3        11.42         20.38           77.58      386.1          0.14250   \n",
      "4        20.29         14.34          135.10     1297.0          0.10030   \n",
      "\n",
      "   mean compactness  mean concavity  mean concave points  mean symmetry  \\\n",
      "0           0.27760          0.3001              0.14710         0.2419   \n",
      "1           0.07864          0.0869              0.07017         0.1812   \n",
      "2           0.15990          0.1974              0.12790         0.2069   \n",
      "3           0.28390          0.2414              0.10520         0.2597   \n",
      "4           0.13280          0.1980              0.10430         0.1809   \n",
      "\n",
      "   mean fractal dimension  ...  worst texture  worst perimeter  worst area  \\\n",
      "0                 0.07871  ...          17.33           184.60      2019.0   \n",
      "1                 0.05667  ...          23.41           158.80      1956.0   \n",
      "2                 0.05999  ...          25.53           152.50      1709.0   \n",
      "3                 0.09744  ...          26.50            98.87       567.7   \n",
      "4                 0.05883  ...          16.67           152.20      1575.0   \n",
      "\n",
      "   worst smoothness  worst compactness  worst concavity  worst concave points  \\\n",
      "0            0.1622             0.6656           0.7119                0.2654   \n",
      "1            0.1238             0.1866           0.2416                0.1860   \n",
      "2            0.1444             0.4245           0.4504                0.2430   \n",
      "3            0.2098             0.8663           0.6869                0.2575   \n",
      "4            0.1374             0.2050           0.4000                0.1625   \n",
      "\n",
      "   worst symmetry  worst fractal dimension  target  \n",
      "0          0.4601                  0.11890       0  \n",
      "1          0.2750                  0.08902       0  \n",
      "2          0.3613                  0.08758       0  \n",
      "3          0.6638                  0.17300       0  \n",
      "4          0.2364                  0.07678       0  \n",
      "\n",
      "[5 rows x 31 columns]\n"
     ]
    }
   ],
   "source": [
    "print(data.head())"
   ]
  },
  {
   "cell_type": "code",
   "execution_count": 6,
   "id": "bbee9a92",
   "metadata": {},
   "outputs": [
    {
     "name": "stdout",
     "output_type": "stream",
     "text": [
      "17070\n"
     ]
    }
   ],
   "source": [
    "print(df.data.size)"
   ]
  },
  {
   "cell_type": "code",
   "execution_count": 7,
   "id": "76a8782c",
   "metadata": {},
   "outputs": [
    {
     "name": "stdout",
     "output_type": "stream",
     "text": [
      "1    357\n",
      "0    212\n",
      "Name: target, dtype: int64\n"
     ]
    }
   ],
   "source": [
    "print(data['target'].value_counts())\n"
   ]
  },
  {
   "cell_type": "code",
   "execution_count": 8,
   "id": "2d48c816",
   "metadata": {},
   "outputs": [],
   "source": [
    "from sklearn.preprocessing import StandardScaler\n",
    "scaler = StandardScaler()"
   ]
  },
  {
   "cell_type": "code",
   "execution_count": 9,
   "id": "359d370c",
   "metadata": {},
   "outputs": [],
   "source": [
    "X = df.data"
   ]
  },
  {
   "cell_type": "code",
   "execution_count": 10,
   "id": "1b12183c",
   "metadata": {},
   "outputs": [],
   "source": [
    "X_df = pd.DataFrame(X, columns=df.feature_names)"
   ]
  },
  {
   "cell_type": "code",
   "execution_count": 20,
   "id": "579f94dc",
   "metadata": {},
   "outputs": [
    {
     "name": "stdout",
     "output_type": "stream",
     "text": [
      "                         mean texture  mean perimeter  mean area  \\\n",
      "mean texture                 1.000000        0.329533   0.321086   \n",
      "mean perimeter               0.329533        1.000000   0.986507   \n",
      "mean area                    0.321086        0.986507   1.000000   \n",
      "mean smoothness             -0.023389        0.207278   0.177028   \n",
      "mean compactness             0.236702        0.556936   0.498502   \n",
      "mean concavity               0.302418        0.716136   0.685983   \n",
      "mean concave points          0.293464        0.850977   0.823269   \n",
      "mean symmetry                0.071401        0.183027   0.151293   \n",
      "mean fractal dimension      -0.076437       -0.261477  -0.283110   \n",
      "radius error                 0.275869        0.691765   0.732562   \n",
      "texture error                0.386358       -0.086761  -0.066280   \n",
      "perimeter error              0.281673        0.693135   0.726628   \n",
      "area error                   0.259845        0.744983   0.800086   \n",
      "smoothness error             0.006614       -0.202694  -0.166777   \n",
      "compactness error            0.191975        0.250744   0.212583   \n",
      "concavity error              0.143293        0.228082   0.207660   \n",
      "concave points error         0.163851        0.407217   0.372320   \n",
      "symmetry error               0.009127       -0.081629  -0.072497   \n",
      "fractal dimension error      0.054458       -0.005523  -0.019887   \n",
      "worst radius                 0.352573        0.969476   0.962746   \n",
      "worst texture                0.912045        0.303038   0.287489   \n",
      "worst perimeter              0.358040        0.970387   0.959120   \n",
      "worst area                   0.343546        0.941550   0.959213   \n",
      "worst smoothness             0.077503        0.150549   0.123523   \n",
      "worst compactness            0.277830        0.455774   0.390410   \n",
      "worst concavity              0.301025        0.563879   0.512606   \n",
      "worst concave points         0.295316        0.771241   0.722017   \n",
      "worst symmetry               0.105008        0.189115   0.143570   \n",
      "worst fractal dimension      0.119205        0.051019   0.003738   \n",
      "\n",
      "                         mean smoothness  mean compactness  mean concavity  \\\n",
      "mean texture                   -0.023389          0.236702        0.302418   \n",
      "mean perimeter                  0.207278          0.556936        0.716136   \n",
      "mean area                       0.177028          0.498502        0.685983   \n",
      "mean smoothness                 1.000000          0.659123        0.521984   \n",
      "mean compactness                0.659123          1.000000        0.883121   \n",
      "mean concavity                  0.521984          0.883121        1.000000   \n",
      "mean concave points             0.553695          0.831135        0.921391   \n",
      "mean symmetry                   0.557775          0.602641        0.500667   \n",
      "mean fractal dimension          0.584792          0.565369        0.336783   \n",
      "radius error                    0.301467          0.497473        0.631925   \n",
      "texture error                   0.068406          0.046205        0.076218   \n",
      "perimeter error                 0.296092          0.548905        0.660391   \n",
      "area error                      0.246552          0.455653        0.617427   \n",
      "smoothness error                0.332375          0.135299        0.098564   \n",
      "compactness error               0.318943          0.738722        0.670279   \n",
      "concavity error                 0.248396          0.570517        0.691270   \n",
      "concave points error            0.380676          0.642262        0.683260   \n",
      "symmetry error                  0.200774          0.229977        0.178009   \n",
      "fractal dimension error         0.283607          0.507318        0.449301   \n",
      "worst radius                    0.213120          0.535315        0.688236   \n",
      "worst texture                   0.036072          0.248133        0.299879   \n",
      "worst perimeter                 0.238853          0.590210        0.729565   \n",
      "worst area                      0.206718          0.509604        0.675987   \n",
      "worst smoothness                0.805324          0.565541        0.448822   \n",
      "worst compactness               0.472468          0.865809        0.754968   \n",
      "worst concavity                 0.434926          0.816275        0.884103   \n",
      "worst concave points            0.503053          0.815573        0.861323   \n",
      "worst symmetry                  0.394309          0.510223        0.409464   \n",
      "worst fractal dimension         0.499316          0.687382        0.514930   \n",
      "\n",
      "                         mean concave points  mean symmetry  \\\n",
      "mean texture                        0.293464       0.071401   \n",
      "mean perimeter                      0.850977       0.183027   \n",
      "mean area                           0.823269       0.151293   \n",
      "mean smoothness                     0.553695       0.557775   \n",
      "mean compactness                    0.831135       0.602641   \n",
      "mean concavity                      0.921391       0.500667   \n",
      "mean concave points                 1.000000       0.462497   \n",
      "mean symmetry                       0.462497       1.000000   \n",
      "mean fractal dimension              0.166917       0.479921   \n",
      "radius error                        0.698050       0.303379   \n",
      "texture error                       0.021480       0.128053   \n",
      "perimeter error                     0.710650       0.313893   \n",
      "area error                          0.690299       0.223970   \n",
      "smoothness error                    0.027653       0.187321   \n",
      "compactness error                   0.490424       0.421659   \n",
      "concavity error                     0.439167       0.342627   \n",
      "concave points error                0.615634       0.393298   \n",
      "symmetry error                      0.095351       0.449137   \n",
      "fractal dimension error             0.257584       0.331786   \n",
      "worst radius                        0.830318       0.185728   \n",
      "worst texture                       0.292752       0.090651   \n",
      "worst perimeter                     0.855923       0.219169   \n",
      "worst area                          0.809630       0.177193   \n",
      "worst smoothness                    0.452753       0.426675   \n",
      "worst compactness                   0.667454       0.473200   \n",
      "worst concavity                     0.752399       0.433721   \n",
      "worst concave points                0.910155       0.430297   \n",
      "worst symmetry                      0.375744       0.699826   \n",
      "worst fractal dimension             0.368661       0.438413   \n",
      "\n",
      "                         mean fractal dimension  radius error  ...  \\\n",
      "mean texture                          -0.076437      0.275869  ...   \n",
      "mean perimeter                        -0.261477      0.691765  ...   \n",
      "mean area                             -0.283110      0.732562  ...   \n",
      "mean smoothness                        0.584792      0.301467  ...   \n",
      "mean compactness                       0.565369      0.497473  ...   \n",
      "mean concavity                         0.336783      0.631925  ...   \n",
      "mean concave points                    0.166917      0.698050  ...   \n",
      "mean symmetry                          0.479921      0.303379  ...   \n",
      "mean fractal dimension                 1.000000      0.000111  ...   \n",
      "radius error                           0.000111      1.000000  ...   \n",
      "texture error                          0.164174      0.213247  ...   \n",
      "perimeter error                        0.039830      0.972794  ...   \n",
      "area error                            -0.090170      0.951830  ...   \n",
      "smoothness error                       0.401964      0.164514  ...   \n",
      "compactness error                      0.559837      0.356065  ...   \n",
      "concavity error                        0.446630      0.332358  ...   \n",
      "concave points error                   0.341198      0.513346  ...   \n",
      "symmetry error                         0.345007      0.240567  ...   \n",
      "fractal dimension error                0.688132      0.227754  ...   \n",
      "worst radius                          -0.253691      0.715065  ...   \n",
      "worst texture                         -0.051269      0.194799  ...   \n",
      "worst perimeter                       -0.205151      0.719684  ...   \n",
      "worst area                            -0.231854      0.751548  ...   \n",
      "worst smoothness                       0.504942      0.141919  ...   \n",
      "worst compactness                      0.458798      0.287103  ...   \n",
      "worst concavity                        0.346234      0.380585  ...   \n",
      "worst concave points                   0.175325      0.531062  ...   \n",
      "worst symmetry                         0.334019      0.094543  ...   \n",
      "worst fractal dimension                0.767297      0.049559  ...   \n",
      "\n",
      "                         worst radius  worst texture  worst perimeter  \\\n",
      "mean texture                 0.352573       0.912045         0.358040   \n",
      "mean perimeter               0.969476       0.303038         0.970387   \n",
      "mean area                    0.962746       0.287489         0.959120   \n",
      "mean smoothness              0.213120       0.036072         0.238853   \n",
      "mean compactness             0.535315       0.248133         0.590210   \n",
      "mean concavity               0.688236       0.299879         0.729565   \n",
      "mean concave points          0.830318       0.292752         0.855923   \n",
      "mean symmetry                0.185728       0.090651         0.219169   \n",
      "mean fractal dimension      -0.253691      -0.051269        -0.205151   \n",
      "radius error                 0.715065       0.194799         0.719684   \n",
      "texture error               -0.111690       0.409003        -0.102242   \n",
      "perimeter error              0.697201       0.200371         0.721031   \n",
      "area error                   0.757373       0.196497         0.761213   \n",
      "smoothness error            -0.230691      -0.074743        -0.217304   \n",
      "compactness error            0.204607       0.143003         0.260516   \n",
      "concavity error              0.186904       0.100241         0.226680   \n",
      "concave points error         0.358127       0.086741         0.394999   \n",
      "symmetry error              -0.128121      -0.077473        -0.103753   \n",
      "fractal dimension error     -0.037488      -0.003195        -0.001000   \n",
      "worst radius                 1.000000       0.359921         0.993708   \n",
      "worst texture                0.359921       1.000000         0.365098   \n",
      "worst perimeter              0.993708       0.365098         1.000000   \n",
      "worst area                   0.984015       0.345842         0.977578   \n",
      "worst smoothness             0.216574       0.225429         0.236775   \n",
      "worst compactness            0.475820       0.360832         0.529408   \n",
      "worst concavity              0.573975       0.368366         0.618344   \n",
      "worst concave points         0.787424       0.359755         0.816322   \n",
      "worst symmetry               0.243529       0.233027         0.269493   \n",
      "worst fractal dimension      0.093492       0.219122         0.138957   \n",
      "\n",
      "                         worst area  worst smoothness  worst compactness  \\\n",
      "mean texture               0.343546          0.077503           0.277830   \n",
      "mean perimeter             0.941550          0.150549           0.455774   \n",
      "mean area                  0.959213          0.123523           0.390410   \n",
      "mean smoothness            0.206718          0.805324           0.472468   \n",
      "mean compactness           0.509604          0.565541           0.865809   \n",
      "mean concavity             0.675987          0.448822           0.754968   \n",
      "mean concave points        0.809630          0.452753           0.667454   \n",
      "mean symmetry              0.177193          0.426675           0.473200   \n",
      "mean fractal dimension    -0.231854          0.504942           0.458798   \n",
      "radius error               0.751548          0.141919           0.287103   \n",
      "texture error             -0.083195         -0.073658          -0.092439   \n",
      "perimeter error            0.730713          0.130054           0.341919   \n",
      "area error                 0.811408          0.125389           0.283257   \n",
      "smoothness error          -0.182195          0.314457          -0.055558   \n",
      "compactness error          0.199371          0.227394           0.678780   \n",
      "concavity error            0.188353          0.168481           0.484858   \n",
      "concave points error       0.342271          0.215351           0.452888   \n",
      "symmetry error            -0.110343         -0.012662           0.060255   \n",
      "fractal dimension error   -0.022736          0.170568           0.390159   \n",
      "worst radius               0.984015          0.216574           0.475820   \n",
      "worst texture              0.345842          0.225429           0.360832   \n",
      "worst perimeter            0.977578          0.236775           0.529408   \n",
      "worst area                 1.000000          0.209145           0.438296   \n",
      "worst smoothness           0.209145          1.000000           0.568187   \n",
      "worst compactness          0.438296          0.568187           1.000000   \n",
      "worst concavity            0.543331          0.518523           0.892261   \n",
      "worst concave points       0.747419          0.547691           0.801080   \n",
      "worst symmetry             0.209146          0.493838           0.614441   \n",
      "worst fractal dimension    0.079647          0.617624           0.810455   \n",
      "\n",
      "                         worst concavity  worst concave points  \\\n",
      "mean texture                    0.301025              0.295316   \n",
      "mean perimeter                  0.563879              0.771241   \n",
      "mean area                       0.512606              0.722017   \n",
      "mean smoothness                 0.434926              0.503053   \n",
      "mean compactness                0.816275              0.815573   \n",
      "mean concavity                  0.884103              0.861323   \n",
      "mean concave points             0.752399              0.910155   \n",
      "mean symmetry                   0.433721              0.430297   \n",
      "mean fractal dimension          0.346234              0.175325   \n",
      "radius error                    0.380585              0.531062   \n",
      "texture error                  -0.068956             -0.119638   \n",
      "perimeter error                 0.418899              0.554897   \n",
      "area error                      0.385100              0.538166   \n",
      "smoothness error               -0.058298             -0.102007   \n",
      "compactness error               0.639147              0.483208   \n",
      "concavity error                 0.662564              0.440472   \n",
      "concave points error            0.549592              0.602450   \n",
      "symmetry error                  0.037119             -0.030413   \n",
      "fractal dimension error         0.379975              0.215204   \n",
      "worst radius                    0.573975              0.787424   \n",
      "worst texture                   0.368366              0.359755   \n",
      "worst perimeter                 0.618344              0.816322   \n",
      "worst area                      0.543331              0.747419   \n",
      "worst smoothness                0.518523              0.547691   \n",
      "worst compactness               0.892261              0.801080   \n",
      "worst concavity                 1.000000              0.855434   \n",
      "worst concave points            0.855434              1.000000   \n",
      "worst symmetry                  0.532520              0.502528   \n",
      "worst fractal dimension         0.686511              0.511114   \n",
      "\n",
      "                         worst symmetry  worst fractal dimension  \n",
      "mean texture                   0.105008                 0.119205  \n",
      "mean perimeter                 0.189115                 0.051019  \n",
      "mean area                      0.143570                 0.003738  \n",
      "mean smoothness                0.394309                 0.499316  \n",
      "mean compactness               0.510223                 0.687382  \n",
      "mean concavity                 0.409464                 0.514930  \n",
      "mean concave points            0.375744                 0.368661  \n",
      "mean symmetry                  0.699826                 0.438413  \n",
      "mean fractal dimension         0.334019                 0.767297  \n",
      "radius error                   0.094543                 0.049559  \n",
      "texture error                 -0.128215                -0.045655  \n",
      "perimeter error                0.109930                 0.085433  \n",
      "area error                     0.074126                 0.017539  \n",
      "smoothness error              -0.107342                 0.101480  \n",
      "compactness error              0.277878                 0.590973  \n",
      "concavity error                0.197788                 0.439329  \n",
      "concave points error           0.143116                 0.310655  \n",
      "symmetry error                 0.389402                 0.078079  \n",
      "fractal dimension error        0.111094                 0.591328  \n",
      "worst radius                   0.243529                 0.093492  \n",
      "worst texture                  0.233027                 0.219122  \n",
      "worst perimeter                0.269493                 0.138957  \n",
      "worst area                     0.209146                 0.079647  \n",
      "worst smoothness               0.493838                 0.617624  \n",
      "worst compactness              0.614441                 0.810455  \n",
      "worst concavity                0.532520                 0.686511  \n",
      "worst concave points           0.502528                 0.511114  \n",
      "worst symmetry                 1.000000                 0.537848  \n",
      "worst fractal dimension        0.537848                 1.000000  \n",
      "\n",
      "[29 rows x 29 columns]\n"
     ]
    }
   ],
   "source": [
    "print(X_df.iloc[:,1:].corr())"
   ]
  },
  {
   "cell_type": "code",
   "execution_count": 11,
   "id": "5ee72c51",
   "metadata": {},
   "outputs": [],
   "source": [
    "scaler.fit(X_df)\n",
    "X_train = scaler.transform(X_df)\n",
    "X_train = pd.DataFrame(X_train)"
   ]
  },
  {
   "cell_type": "code",
   "execution_count": 12,
   "id": "e77c5149",
   "metadata": {},
   "outputs": [
    {
     "name": "stdout",
     "output_type": "stream",
     "text": [
      "           0         1         2         3         4         5         6   \\\n",
      "0    1.097064 -2.073335  1.269934  0.984375  1.568466  3.283515  2.652874   \n",
      "1    1.829821 -0.353632  1.685955  1.908708 -0.826962 -0.487072 -0.023846   \n",
      "2    1.579888  0.456187  1.566503  1.558884  0.942210  1.052926  1.363478   \n",
      "3   -0.768909  0.253732 -0.592687 -0.764464  3.283553  3.402909  1.915897   \n",
      "4    1.750297 -1.151816  1.776573  1.826229  0.280372  0.539340  1.371011   \n",
      "..        ...       ...       ...       ...       ...       ...       ...   \n",
      "564  2.110995  0.721473  2.060786  2.343856  1.041842  0.219060  1.947285   \n",
      "565  1.704854  2.085134  1.615931  1.723842  0.102458 -0.017833  0.693043   \n",
      "566  0.702284  2.045574  0.672676  0.577953 -0.840484 -0.038680  0.046588   \n",
      "567  1.838341  2.336457  1.982524  1.735218  1.525767  3.272144  3.296944   \n",
      "568 -1.808401  1.221792 -1.814389 -1.347789 -3.112085 -1.150752 -1.114873   \n",
      "\n",
      "           7         8         9   ...        20        21        22  \\\n",
      "0    2.532475  2.217515  2.255747  ...  1.886690 -1.359293  2.303601   \n",
      "1    0.548144  0.001392 -0.868652  ...  1.805927 -0.369203  1.535126   \n",
      "2    2.037231  0.939685 -0.398008  ...  1.511870 -0.023974  1.347475   \n",
      "3    1.451707  2.867383  4.910919  ... -0.281464  0.133984 -0.249939   \n",
      "4    1.428493 -0.009560 -0.562450  ...  1.298575 -1.466770  1.338539   \n",
      "..        ...       ...       ...  ...       ...       ...       ...   \n",
      "564  2.320965 -0.312589 -0.931027  ...  1.901185  0.117700  1.752563   \n",
      "565  1.263669 -0.217664 -1.058611  ...  1.536720  2.047399  1.421940   \n",
      "566  0.105777 -0.809117 -0.895587  ...  0.561361  1.374854  0.579001   \n",
      "567  2.658866  2.137194  1.043695  ...  1.961239  2.237926  2.303601   \n",
      "568 -1.261820 -0.820070 -0.561032  ... -1.410893  0.764190 -1.432735   \n",
      "\n",
      "           23        24        25        26        27        28        29  \n",
      "0    2.001237  1.307686  2.616665  2.109526  2.296076  2.750622  1.937015  \n",
      "1    1.890489 -0.375612 -0.430444 -0.146749  1.087084 -0.243890  0.281190  \n",
      "2    1.456285  0.527407  1.082932  0.854974  1.955000  1.152255  0.201391  \n",
      "3   -0.550021  3.394275  3.893397  1.989588  2.175786  6.046041  4.935010  \n",
      "4    1.220724  0.220556 -0.313395  0.613179  0.729259 -0.868353 -0.397100  \n",
      "..        ...       ...       ...       ...       ...       ...       ...  \n",
      "564  2.015301  0.378365 -0.273318  0.664512  1.629151 -1.360158 -0.709091  \n",
      "565  1.494959 -0.691230 -0.394820  0.236573  0.733827 -0.531855 -0.973978  \n",
      "566  0.427906 -0.809587  0.350735  0.326767  0.414069 -1.104549 -0.318409  \n",
      "567  1.653171  1.430427  3.904848  3.197605  2.289985  1.919083  2.219635  \n",
      "568 -1.075813 -1.859019 -1.207552 -1.305831 -1.745063 -0.048138 -0.751207  \n",
      "\n",
      "[569 rows x 30 columns]\n"
     ]
    }
   ],
   "source": [
    "print(X_train)"
   ]
  },
  {
   "cell_type": "code",
   "execution_count": 13,
   "id": "3ca6f4d4",
   "metadata": {},
   "outputs": [
    {
     "data": {
      "text/plain": [
       "0"
      ]
     },
     "execution_count": 13,
     "metadata": {},
     "output_type": "execute_result"
    }
   ],
   "source": [
    "data.duplicated().sum()"
   ]
  },
  {
   "cell_type": "code",
   "execution_count": 14,
   "id": "4caa436c",
   "metadata": {},
   "outputs": [],
   "source": [
    "from sklearn.model_selection import train_test_split\n",
    "Y = data['target']\n",
    "x_train,x_test,Y_train,Y_test = train_test_split(X_train,Y,test_size=0.2,random_state = 42)"
   ]
  },
  {
   "cell_type": "code",
   "execution_count": 15,
   "id": "3ce44a6e",
   "metadata": {},
   "outputs": [
    {
     "name": "stdout",
     "output_type": "stream",
     "text": [
      "0      0\n",
      "1      0\n",
      "2      0\n",
      "3      0\n",
      "4      0\n",
      "      ..\n",
      "564    0\n",
      "565    0\n",
      "566    0\n",
      "567    0\n",
      "568    1\n",
      "Name: target, Length: 569, dtype: int32\n"
     ]
    }
   ],
   "source": [
    "print(Y)"
   ]
  },
  {
   "cell_type": "code",
   "execution_count": 20,
   "id": "3e355fca",
   "metadata": {},
   "outputs": [
    {
     "name": "stdout",
     "output_type": "stream",
     "text": [
      "Requirement already satisfied: tensorflow in c:\\users\\srinj\\anaconda3\\lib\\site-packages (2.13.0)\n",
      "Requirement already satisfied: tensorflow-intel==2.13.0 in c:\\users\\srinj\\anaconda3\\lib\\site-packages (from tensorflow) (2.13.0)\n",
      "Requirement already satisfied: absl-py>=1.0.0 in c:\\users\\srinj\\anaconda3\\lib\\site-packages (from tensorflow-intel==2.13.0->tensorflow) (1.4.0)\n",
      "Requirement already satisfied: astunparse>=1.6.0 in c:\\users\\srinj\\anaconda3\\lib\\site-packages (from tensorflow-intel==2.13.0->tensorflow) (1.6.3)\n",
      "Requirement already satisfied: flatbuffers>=23.1.21 in c:\\users\\srinj\\anaconda3\\lib\\site-packages (from tensorflow-intel==2.13.0->tensorflow) (23.5.26)\n",
      "Requirement already satisfied: gast<=0.4.0,>=0.2.1 in c:\\users\\srinj\\anaconda3\\lib\\site-packages (from tensorflow-intel==2.13.0->tensorflow) (0.4.0)\n",
      "Requirement already satisfied: google-pasta>=0.1.1 in c:\\users\\srinj\\anaconda3\\lib\\site-packages (from tensorflow-intel==2.13.0->tensorflow) (0.2.0)\n",
      "Requirement already satisfied: h5py>=2.9.0 in c:\\users\\srinj\\appdata\\roaming\\python\\python310\\site-packages (from tensorflow-intel==2.13.0->tensorflow) (3.9.0)\n",
      "Requirement already satisfied: libclang>=13.0.0 in c:\\users\\srinj\\anaconda3\\lib\\site-packages (from tensorflow-intel==2.13.0->tensorflow) (16.0.6)\n",
      "Requirement already satisfied: numpy<=1.24.3,>=1.22 in c:\\users\\srinj\\appdata\\roaming\\python\\python310\\site-packages (from tensorflow-intel==2.13.0->tensorflow) (1.24.2)\n",
      "Requirement already satisfied: opt-einsum>=2.3.2 in c:\\users\\srinj\\anaconda3\\lib\\site-packages (from tensorflow-intel==2.13.0->tensorflow) (3.3.0)\n",
      "Requirement already satisfied: packaging in c:\\users\\srinj\\appdata\\roaming\\python\\python310\\site-packages (from tensorflow-intel==2.13.0->tensorflow) (22.0)\n",
      "Requirement already satisfied: protobuf!=4.21.0,!=4.21.1,!=4.21.2,!=4.21.3,!=4.21.4,!=4.21.5,<5.0.0dev,>=3.20.3 in c:\\users\\srinj\\anaconda3\\lib\\site-packages (from tensorflow-intel==2.13.0->tensorflow) (4.23.4)\n",
      "Requirement already satisfied: setuptools in c:\\users\\srinj\\anaconda3\\lib\\site-packages (from tensorflow-intel==2.13.0->tensorflow) (65.6.3)\n",
      "Requirement already satisfied: six>=1.12.0 in c:\\users\\srinj\\appdata\\roaming\\python\\python310\\site-packages (from tensorflow-intel==2.13.0->tensorflow) (1.16.0)\n",
      "Requirement already satisfied: termcolor>=1.1.0 in c:\\users\\srinj\\anaconda3\\lib\\site-packages (from tensorflow-intel==2.13.0->tensorflow) (2.3.0)\n",
      "Requirement already satisfied: typing-extensions<4.6.0,>=3.6.6 in c:\\users\\srinj\\appdata\\roaming\\python\\python310\\site-packages (from tensorflow-intel==2.13.0->tensorflow) (4.5.0)\n",
      "Requirement already satisfied: wrapt>=1.11.0 in c:\\users\\srinj\\anaconda3\\lib\\site-packages (from tensorflow-intel==2.13.0->tensorflow) (1.14.1)\n",
      "Requirement already satisfied: grpcio<2.0,>=1.24.3 in c:\\users\\srinj\\anaconda3\\lib\\site-packages (from tensorflow-intel==2.13.0->tensorflow) (1.56.2)\n",
      "Requirement already satisfied: tensorboard<2.14,>=2.13 in c:\\users\\srinj\\anaconda3\\lib\\site-packages (from tensorflow-intel==2.13.0->tensorflow) (2.13.0)\n",
      "Requirement already satisfied: tensorflow-estimator<2.14,>=2.13.0 in c:\\users\\srinj\\anaconda3\\lib\\site-packages (from tensorflow-intel==2.13.0->tensorflow) (2.13.0)\n",
      "Requirement already satisfied: keras<2.14,>=2.13.1 in c:\\users\\srinj\\anaconda3\\lib\\site-packages (from tensorflow-intel==2.13.0->tensorflow) (2.13.1)\n",
      "Requirement already satisfied: tensorflow-io-gcs-filesystem>=0.23.1 in c:\\users\\srinj\\anaconda3\\lib\\site-packages (from tensorflow-intel==2.13.0->tensorflow) (0.31.0)\n",
      "Requirement already satisfied: wheel<1.0,>=0.23.0 in c:\\users\\srinj\\anaconda3\\lib\\site-packages (from astunparse>=1.6.0->tensorflow-intel==2.13.0->tensorflow) (0.38.4)\n",
      "Requirement already satisfied: google-auth<3,>=1.6.3 in c:\\users\\srinj\\anaconda3\\lib\\site-packages (from tensorboard<2.14,>=2.13->tensorflow-intel==2.13.0->tensorflow) (2.22.0)\n",
      "Requirement already satisfied: google-auth-oauthlib<1.1,>=0.5 in c:\\users\\srinj\\anaconda3\\lib\\site-packages (from tensorboard<2.14,>=2.13->tensorflow-intel==2.13.0->tensorflow) (1.0.0)\n",
      "Requirement already satisfied: markdown>=2.6.8 in c:\\users\\srinj\\anaconda3\\lib\\site-packages (from tensorboard<2.14,>=2.13->tensorflow-intel==2.13.0->tensorflow) (3.4.1)\n",
      "Requirement already satisfied: requests<3,>=2.21.0 in c:\\users\\srinj\\appdata\\roaming\\python\\python310\\site-packages (from tensorboard<2.14,>=2.13->tensorflow-intel==2.13.0->tensorflow) (2.31.0)\n",
      "Requirement already satisfied: tensorboard-data-server<0.8.0,>=0.7.0 in c:\\users\\srinj\\anaconda3\\lib\\site-packages (from tensorboard<2.14,>=2.13->tensorflow-intel==2.13.0->tensorflow) (0.7.1)\n",
      "Requirement already satisfied: werkzeug>=1.0.1 in c:\\users\\srinj\\appdata\\roaming\\python\\python310\\site-packages (from tensorboard<2.14,>=2.13->tensorflow-intel==2.13.0->tensorflow) (2.2.2)\n",
      "Requirement already satisfied: cachetools<6.0,>=2.0.0 in c:\\users\\srinj\\anaconda3\\lib\\site-packages (from google-auth<3,>=1.6.3->tensorboard<2.14,>=2.13->tensorflow-intel==2.13.0->tensorflow) (5.3.1)\n",
      "Requirement already satisfied: pyasn1-modules>=0.2.1 in c:\\users\\srinj\\anaconda3\\lib\\site-packages (from google-auth<3,>=1.6.3->tensorboard<2.14,>=2.13->tensorflow-intel==2.13.0->tensorflow) (0.2.8)\n",
      "Requirement already satisfied: rsa<5,>=3.1.4 in c:\\users\\srinj\\anaconda3\\lib\\site-packages (from google-auth<3,>=1.6.3->tensorboard<2.14,>=2.13->tensorflow-intel==2.13.0->tensorflow) (4.9)\n",
      "Requirement already satisfied: urllib3<2.0 in c:\\users\\srinj\\anaconda3\\lib\\site-packages (from google-auth<3,>=1.6.3->tensorboard<2.14,>=2.13->tensorflow-intel==2.13.0->tensorflow) (1.26.14)\n",
      "Requirement already satisfied: requests-oauthlib>=0.7.0 in c:\\users\\srinj\\anaconda3\\lib\\site-packages (from google-auth-oauthlib<1.1,>=0.5->tensorboard<2.14,>=2.13->tensorflow-intel==2.13.0->tensorflow) (1.3.1)\n",
      "Requirement already satisfied: charset-normalizer<4,>=2 in c:\\users\\srinj\\appdata\\roaming\\python\\python310\\site-packages (from requests<3,>=2.21.0->tensorboard<2.14,>=2.13->tensorflow-intel==2.13.0->tensorflow) (3.1.0)\n",
      "Requirement already satisfied: idna<4,>=2.5 in c:\\users\\srinj\\appdata\\roaming\\python\\python310\\site-packages (from requests<3,>=2.21.0->tensorboard<2.14,>=2.13->tensorflow-intel==2.13.0->tensorflow) (3.4)\n",
      "Requirement already satisfied: certifi>=2017.4.17 in c:\\users\\srinj\\appdata\\roaming\\python\\python310\\site-packages (from requests<3,>=2.21.0->tensorboard<2.14,>=2.13->tensorflow-intel==2.13.0->tensorflow) (2023.5.7)\n",
      "Requirement already satisfied: MarkupSafe>=2.1.1 in c:\\users\\srinj\\appdata\\roaming\\python\\python310\\site-packages (from werkzeug>=1.0.1->tensorboard<2.14,>=2.13->tensorflow-intel==2.13.0->tensorflow) (2.1.1)\n",
      "Requirement already satisfied: pyasn1<0.5.0,>=0.4.6 in c:\\users\\srinj\\anaconda3\\lib\\site-packages (from pyasn1-modules>=0.2.1->google-auth<3,>=1.6.3->tensorboard<2.14,>=2.13->tensorflow-intel==2.13.0->tensorflow) (0.4.8)\n",
      "Requirement already satisfied: oauthlib>=3.0.0 in c:\\users\\srinj\\anaconda3\\lib\\site-packages (from requests-oauthlib>=0.7.0->google-auth-oauthlib<1.1,>=0.5->tensorboard<2.14,>=2.13->tensorflow-intel==2.13.0->tensorflow) (3.2.2)\n",
      "Note: you may need to restart the kernel to use updated packages.\n"
     ]
    },
    {
     "name": "stderr",
     "output_type": "stream",
     "text": [
      "\n",
      "[notice] A new release of pip is available: 23.1.2 -> 23.2.1\n",
      "[notice] To update, run: python.exe -m pip install --upgrade pip\n"
     ]
    }
   ],
   "source": []
  },
  {
   "cell_type": "code",
   "execution_count": 16,
   "id": "0256dc68",
   "metadata": {},
   "outputs": [],
   "source": [
    "import tensorflow\n",
    "from tensorflow import keras\n",
    "from tensorflow.keras import Sequential\n",
    "from tensorflow.keras.layers import Dense\n"
   ]
  },
  {
   "cell_type": "code",
   "execution_count": 38,
   "id": "b39fd2d4",
   "metadata": {},
   "outputs": [],
   "source": [
    "model = Sequential()\n",
    "\n",
    "model.add(Dense(4,activation = 'sigmoid', input_dim = 30))"
   ]
  },
  {
   "cell_type": "code",
   "execution_count": 41,
   "id": "98ee6614",
   "metadata": {},
   "outputs": [],
   "source": [
    "model.add(Dense(1,activation = 'sigmoid',input_dim = 30))"
   ]
  },
  {
   "cell_type": "code",
   "execution_count": 42,
   "id": "e105b048",
   "metadata": {},
   "outputs": [
    {
     "name": "stdout",
     "output_type": "stream",
     "text": [
      "Model: \"sequential_3\"\n",
      "_________________________________________________________________\n",
      " Layer (type)                Output Shape              Param #   \n",
      "=================================================================\n",
      " dense_10 (Dense)            (None, 4)                 124       \n",
      "                                                                 \n",
      " dense_11 (Dense)            (None, 1)                 5         \n",
      "                                                                 \n",
      " dense_12 (Dense)            (None, 1)                 2         \n",
      "                                                                 \n",
      "=================================================================\n",
      "Total params: 131 (524.00 Byte)\n",
      "Trainable params: 131 (524.00 Byte)\n",
      "Non-trainable params: 0 (0.00 Byte)\n",
      "_________________________________________________________________\n"
     ]
    }
   ],
   "source": [
    "model.summary()"
   ]
  },
  {
   "cell_type": "code",
   "execution_count": 43,
   "id": "bb2bc3d8",
   "metadata": {},
   "outputs": [],
   "source": [
    "model.compile(loss = 'binary_crossentropy', optimizer = 'Adam')"
   ]
  },
  {
   "cell_type": "code",
   "execution_count": 44,
   "id": "e9b24916",
   "metadata": {},
   "outputs": [
    {
     "name": "stdout",
     "output_type": "stream",
     "text": [
      "Epoch 1/100\n"
     ]
    },
    {
     "name": "stderr",
     "output_type": "stream",
     "text": [
      "C:\\Users\\srinj\\anaconda3\\lib\\site-packages\\keras\\src\\engine\\data_adapter.py:1798: FutureWarning: The behavior of `series[i:j]` with an integer-dtype index is deprecated. In a future version, this will be treated as *label-based* indexing, consistent with e.g. `series[i]` lookups. To retain the old behavior, use `series.iloc[i:j]`. To get the future behavior, use `series.loc[i:j]`.\n",
      "  return t[start:end]\n"
     ]
    },
    {
     "name": "stdout",
     "output_type": "stream",
     "text": [
      "12/12 [==============================] - 2s 33ms/step - loss: 0.6510 - val_loss: 0.6440\n",
      "Epoch 2/100\n",
      "12/12 [==============================] - 0s 8ms/step - loss: 0.6455 - val_loss: 0.6386\n",
      "Epoch 3/100\n",
      "12/12 [==============================] - 0s 8ms/step - loss: 0.6404 - val_loss: 0.6333\n",
      "Epoch 4/100\n",
      "12/12 [==============================] - 0s 8ms/step - loss: 0.6352 - val_loss: 0.6283\n",
      "Epoch 5/100\n",
      "12/12 [==============================] - 0s 8ms/step - loss: 0.6303 - val_loss: 0.6234\n",
      "Epoch 6/100\n",
      "12/12 [==============================] - 0s 9ms/step - loss: 0.6255 - val_loss: 0.6185\n",
      "Epoch 7/100\n",
      "12/12 [==============================] - 0s 9ms/step - loss: 0.6206 - val_loss: 0.6138\n",
      "Epoch 8/100\n",
      "12/12 [==============================] - 0s 8ms/step - loss: 0.6159 - val_loss: 0.6091\n",
      "Epoch 9/100\n",
      "12/12 [==============================] - 0s 8ms/step - loss: 0.6112 - val_loss: 0.6046\n",
      "Epoch 10/100\n",
      "12/12 [==============================] - 0s 9ms/step - loss: 0.6067 - val_loss: 0.6001\n",
      "Epoch 11/100\n",
      "12/12 [==============================] - 0s 8ms/step - loss: 0.6023 - val_loss: 0.5958\n",
      "Epoch 12/100\n",
      "12/12 [==============================] - 0s 9ms/step - loss: 0.5979 - val_loss: 0.5916\n",
      "Epoch 13/100\n",
      "12/12 [==============================] - 0s 10ms/step - loss: 0.5936 - val_loss: 0.5874\n",
      "Epoch 14/100\n",
      "12/12 [==============================] - 0s 9ms/step - loss: 0.5894 - val_loss: 0.5834\n",
      "Epoch 15/100\n",
      "12/12 [==============================] - 0s 9ms/step - loss: 0.5853 - val_loss: 0.5794\n",
      "Epoch 16/100\n",
      "12/12 [==============================] - 0s 9ms/step - loss: 0.5812 - val_loss: 0.5755\n",
      "Epoch 17/100\n",
      "12/12 [==============================] - 0s 9ms/step - loss: 0.5772 - val_loss: 0.5717\n",
      "Epoch 18/100\n",
      "12/12 [==============================] - 0s 9ms/step - loss: 0.5733 - val_loss: 0.5680\n",
      "Epoch 19/100\n",
      "12/12 [==============================] - 0s 9ms/step - loss: 0.5695 - val_loss: 0.5643\n",
      "Epoch 20/100\n",
      "12/12 [==============================] - 0s 9ms/step - loss: 0.5657 - val_loss: 0.5607\n",
      "Epoch 21/100\n",
      "12/12 [==============================] - 0s 9ms/step - loss: 0.5620 - val_loss: 0.5572\n",
      "Epoch 22/100\n",
      "12/12 [==============================] - 0s 9ms/step - loss: 0.5582 - val_loss: 0.5537\n",
      "Epoch 23/100\n",
      "12/12 [==============================] - 0s 8ms/step - loss: 0.5546 - val_loss: 0.5503\n",
      "Epoch 24/100\n",
      "12/12 [==============================] - 0s 9ms/step - loss: 0.5509 - val_loss: 0.5469\n",
      "Epoch 25/100\n",
      "12/12 [==============================] - 0s 9ms/step - loss: 0.5474 - val_loss: 0.5436\n",
      "Epoch 26/100\n",
      "12/12 [==============================] - 0s 8ms/step - loss: 0.5438 - val_loss: 0.5402\n",
      "Epoch 27/100\n",
      "12/12 [==============================] - 0s 9ms/step - loss: 0.5403 - val_loss: 0.5370\n",
      "Epoch 28/100\n",
      "12/12 [==============================] - 0s 9ms/step - loss: 0.5367 - val_loss: 0.5337\n",
      "Epoch 29/100\n",
      "12/12 [==============================] - 0s 8ms/step - loss: 0.5333 - val_loss: 0.5305\n",
      "Epoch 30/100\n",
      "12/12 [==============================] - 0s 8ms/step - loss: 0.5298 - val_loss: 0.5273\n",
      "Epoch 31/100\n",
      "12/12 [==============================] - 0s 10ms/step - loss: 0.5264 - val_loss: 0.5242\n",
      "Epoch 32/100\n",
      "12/12 [==============================] - 0s 9ms/step - loss: 0.5230 - val_loss: 0.5211\n",
      "Epoch 33/100\n",
      "12/12 [==============================] - 0s 9ms/step - loss: 0.5196 - val_loss: 0.5180\n",
      "Epoch 34/100\n",
      "12/12 [==============================] - 0s 9ms/step - loss: 0.5163 - val_loss: 0.5150\n",
      "Epoch 35/100\n",
      "12/12 [==============================] - 0s 9ms/step - loss: 0.5130 - val_loss: 0.5119\n",
      "Epoch 36/100\n",
      "12/12 [==============================] - 0s 9ms/step - loss: 0.5097 - val_loss: 0.5089\n",
      "Epoch 37/100\n",
      "12/12 [==============================] - 0s 9ms/step - loss: 0.5065 - val_loss: 0.5060\n",
      "Epoch 38/100\n",
      "12/12 [==============================] - 0s 9ms/step - loss: 0.5033 - val_loss: 0.5030\n",
      "Epoch 39/100\n",
      "12/12 [==============================] - 0s 9ms/step - loss: 0.5000 - val_loss: 0.5001\n",
      "Epoch 40/100\n",
      "12/12 [==============================] - 0s 8ms/step - loss: 0.4968 - val_loss: 0.4972\n",
      "Epoch 41/100\n",
      "12/12 [==============================] - 0s 9ms/step - loss: 0.4936 - val_loss: 0.4943\n",
      "Epoch 42/100\n",
      "12/12 [==============================] - 0s 9ms/step - loss: 0.4905 - val_loss: 0.4915\n",
      "Epoch 43/100\n",
      "12/12 [==============================] - 0s 10ms/step - loss: 0.4873 - val_loss: 0.4886\n",
      "Epoch 44/100\n",
      "12/12 [==============================] - 0s 9ms/step - loss: 0.4843 - val_loss: 0.4858\n",
      "Epoch 45/100\n",
      "12/12 [==============================] - 0s 9ms/step - loss: 0.4812 - val_loss: 0.4830\n",
      "Epoch 46/100\n",
      "12/12 [==============================] - 0s 9ms/step - loss: 0.4782 - val_loss: 0.4803\n",
      "Epoch 47/100\n",
      "12/12 [==============================] - 0s 9ms/step - loss: 0.4751 - val_loss: 0.4775\n",
      "Epoch 48/100\n",
      "12/12 [==============================] - 0s 9ms/step - loss: 0.4721 - val_loss: 0.4748\n",
      "Epoch 49/100\n",
      "12/12 [==============================] - 0s 9ms/step - loss: 0.4691 - val_loss: 0.4721\n",
      "Epoch 50/100\n",
      "12/12 [==============================] - 0s 9ms/step - loss: 0.4662 - val_loss: 0.4694\n",
      "Epoch 51/100\n",
      "12/12 [==============================] - 0s 9ms/step - loss: 0.4632 - val_loss: 0.4668\n",
      "Epoch 52/100\n",
      "12/12 [==============================] - 0s 9ms/step - loss: 0.4604 - val_loss: 0.4642\n",
      "Epoch 53/100\n",
      "12/12 [==============================] - 0s 9ms/step - loss: 0.4575 - val_loss: 0.4616\n",
      "Epoch 54/100\n",
      "12/12 [==============================] - 0s 9ms/step - loss: 0.4546 - val_loss: 0.4589\n",
      "Epoch 55/100\n",
      "12/12 [==============================] - 0s 10ms/step - loss: 0.4518 - val_loss: 0.4563\n",
      "Epoch 56/100\n",
      "12/12 [==============================] - 0s 9ms/step - loss: 0.4490 - val_loss: 0.4538\n",
      "Epoch 57/100\n",
      "12/12 [==============================] - 0s 8ms/step - loss: 0.4462 - val_loss: 0.4513\n",
      "Epoch 58/100\n",
      "12/12 [==============================] - 0s 8ms/step - loss: 0.4435 - val_loss: 0.4489\n",
      "Epoch 59/100\n",
      "12/12 [==============================] - 0s 8ms/step - loss: 0.4408 - val_loss: 0.4464\n",
      "Epoch 60/100\n",
      "12/12 [==============================] - 0s 8ms/step - loss: 0.4381 - val_loss: 0.4439\n",
      "Epoch 61/100\n",
      "12/12 [==============================] - 0s 8ms/step - loss: 0.4355 - val_loss: 0.4415\n",
      "Epoch 62/100\n",
      "12/12 [==============================] - 0s 9ms/step - loss: 0.4328 - val_loss: 0.4391\n",
      "Epoch 63/100\n",
      "12/12 [==============================] - 0s 9ms/step - loss: 0.4302 - val_loss: 0.4367\n",
      "Epoch 64/100\n",
      "12/12 [==============================] - 0s 9ms/step - loss: 0.4276 - val_loss: 0.4343\n",
      "Epoch 65/100\n",
      "12/12 [==============================] - 0s 9ms/step - loss: 0.4251 - val_loss: 0.4320\n",
      "Epoch 66/100\n",
      "12/12 [==============================] - 0s 9ms/step - loss: 0.4225 - val_loss: 0.4296\n",
      "Epoch 67/100\n",
      "12/12 [==============================] - 0s 8ms/step - loss: 0.4200 - val_loss: 0.4274\n",
      "Epoch 68/100\n",
      "12/12 [==============================] - 0s 8ms/step - loss: 0.4175 - val_loss: 0.4251\n",
      "Epoch 69/100\n",
      "12/12 [==============================] - 0s 7ms/step - loss: 0.4150 - val_loss: 0.4229\n",
      "Epoch 70/100\n",
      "12/12 [==============================] - 0s 8ms/step - loss: 0.4126 - val_loss: 0.4206\n",
      "Epoch 71/100\n",
      "12/12 [==============================] - 0s 8ms/step - loss: 0.4102 - val_loss: 0.4184\n",
      "Epoch 72/100\n",
      "12/12 [==============================] - 0s 8ms/step - loss: 0.4077 - val_loss: 0.4162\n",
      "Epoch 73/100\n",
      "12/12 [==============================] - 0s 8ms/step - loss: 0.4053 - val_loss: 0.4140\n",
      "Epoch 74/100\n",
      "12/12 [==============================] - 0s 9ms/step - loss: 0.4031 - val_loss: 0.4119\n",
      "Epoch 75/100\n",
      "12/12 [==============================] - 0s 9ms/step - loss: 0.4007 - val_loss: 0.4097\n",
      "Epoch 76/100\n",
      "12/12 [==============================] - 0s 9ms/step - loss: 0.3984 - val_loss: 0.4076\n",
      "Epoch 77/100\n",
      "12/12 [==============================] - 0s 8ms/step - loss: 0.3961 - val_loss: 0.4055\n",
      "Epoch 78/100\n",
      "12/12 [==============================] - 0s 8ms/step - loss: 0.3939 - val_loss: 0.4034\n",
      "Epoch 79/100\n",
      "12/12 [==============================] - 0s 8ms/step - loss: 0.3916 - val_loss: 0.4015\n",
      "Epoch 80/100\n",
      "12/12 [==============================] - 0s 8ms/step - loss: 0.3894 - val_loss: 0.3994\n",
      "Epoch 81/100\n",
      "12/12 [==============================] - 0s 8ms/step - loss: 0.3872 - val_loss: 0.3974\n",
      "Epoch 82/100\n",
      "12/12 [==============================] - 0s 9ms/step - loss: 0.3850 - val_loss: 0.3954\n",
      "Epoch 83/100\n"
     ]
    },
    {
     "name": "stdout",
     "output_type": "stream",
     "text": [
      "12/12 [==============================] - 0s 9ms/step - loss: 0.3829 - val_loss: 0.3935\n",
      "Epoch 84/100\n",
      "12/12 [==============================] - 0s 10ms/step - loss: 0.3808 - val_loss: 0.3916\n",
      "Epoch 85/100\n",
      "12/12 [==============================] - 0s 9ms/step - loss: 0.3787 - val_loss: 0.3896\n",
      "Epoch 86/100\n",
      "12/12 [==============================] - 0s 9ms/step - loss: 0.3766 - val_loss: 0.3876\n",
      "Epoch 87/100\n",
      "12/12 [==============================] - 0s 10ms/step - loss: 0.3745 - val_loss: 0.3857\n",
      "Epoch 88/100\n",
      "12/12 [==============================] - 0s 9ms/step - loss: 0.3725 - val_loss: 0.3839\n",
      "Epoch 89/100\n",
      "12/12 [==============================] - 0s 9ms/step - loss: 0.3704 - val_loss: 0.3820\n",
      "Epoch 90/100\n",
      "12/12 [==============================] - 0s 10ms/step - loss: 0.3684 - val_loss: 0.3801\n",
      "Epoch 91/100\n",
      "12/12 [==============================] - 0s 9ms/step - loss: 0.3664 - val_loss: 0.3783\n",
      "Epoch 92/100\n",
      "12/12 [==============================] - 0s 10ms/step - loss: 0.3644 - val_loss: 0.3764\n",
      "Epoch 93/100\n",
      "12/12 [==============================] - 0s 9ms/step - loss: 0.3625 - val_loss: 0.3746\n",
      "Epoch 94/100\n",
      "12/12 [==============================] - 0s 8ms/step - loss: 0.3605 - val_loss: 0.3728\n",
      "Epoch 95/100\n",
      "12/12 [==============================] - 0s 9ms/step - loss: 0.3586 - val_loss: 0.3710\n",
      "Epoch 96/100\n",
      "12/12 [==============================] - 0s 9ms/step - loss: 0.3567 - val_loss: 0.3693\n",
      "Epoch 97/100\n",
      "12/12 [==============================] - 0s 9ms/step - loss: 0.3548 - val_loss: 0.3676\n",
      "Epoch 98/100\n",
      "12/12 [==============================] - 0s 8ms/step - loss: 0.3529 - val_loss: 0.3659\n",
      "Epoch 99/100\n",
      "12/12 [==============================] - 0s 9ms/step - loss: 0.3510 - val_loss: 0.3642\n",
      "Epoch 100/100\n",
      "12/12 [==============================] - 0s 8ms/step - loss: 0.3492 - val_loss: 0.3625\n"
     ]
    },
    {
     "data": {
      "text/plain": [
       "<keras.src.callbacks.History at 0x24345268880>"
      ]
     },
     "execution_count": 44,
     "metadata": {},
     "output_type": "execute_result"
    }
   ],
   "source": [
    "model.fit(x_train,Y_train,epochs = 100, validation_split = 0.2)"
   ]
  },
  {
   "cell_type": "code",
   "execution_count": 45,
   "id": "cd7ee73a",
   "metadata": {},
   "outputs": [
    {
     "data": {
      "text/plain": [
       "[array([[ 1.3625337],\n",
       "        [-1.9828867],\n",
       "        [-1.2541419],\n",
       "        [ 1.4126424]], dtype=float32),\n",
       " array([0.06684509], dtype=float32)]"
      ]
     },
     "execution_count": 45,
     "metadata": {},
     "output_type": "execute_result"
    }
   ],
   "source": [
    "model.layers[1].get_weights()"
   ]
  },
  {
   "cell_type": "code",
   "execution_count": 46,
   "id": "f3415f1b",
   "metadata": {},
   "outputs": [
    {
     "name": "stdout",
     "output_type": "stream",
     "text": [
      "4/4 [==============================] - 0s 3ms/step\n"
     ]
    }
   ],
   "source": [
    "y_log = model.predict(x_test)"
   ]
  },
  {
   "cell_type": "code",
   "execution_count": 47,
   "id": "1b65d693",
   "metadata": {},
   "outputs": [],
   "source": [
    "y_pred = np.where(y_log>0.5,1,0)"
   ]
  },
  {
   "cell_type": "code",
   "execution_count": 48,
   "id": "bdb4ec34",
   "metadata": {},
   "outputs": [
    {
     "name": "stdout",
     "output_type": "stream",
     "text": [
      "0.9824561403508771\n"
     ]
    }
   ],
   "source": [
    "from sklearn.metrics import accuracy_score\n",
    "print(accuracy_score(y_pred,Y_test))"
   ]
  },
  {
   "cell_type": "code",
   "execution_count": null,
   "id": "5811eae3",
   "metadata": {},
   "outputs": [],
   "source": []
  }
 ],
 "metadata": {
  "kernelspec": {
   "display_name": "Python 3 (ipykernel)",
   "language": "python",
   "name": "python3"
  },
  "language_info": {
   "codemirror_mode": {
    "name": "ipython",
    "version": 3
   },
   "file_extension": ".py",
   "mimetype": "text/x-python",
   "name": "python",
   "nbconvert_exporter": "python",
   "pygments_lexer": "ipython3",
   "version": "3.10.9"
  }
 },
 "nbformat": 4,
 "nbformat_minor": 5
}
