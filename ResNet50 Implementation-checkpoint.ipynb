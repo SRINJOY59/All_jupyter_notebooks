{
 "cells": [
  {
   "cell_type": "code",
   "execution_count": 8,
   "id": "cd7fe9d3",
   "metadata": {},
   "outputs": [],
   "source": [
    "from tensorflow.keras.applications.resnet50 import ResNet50\n",
    "from tensorflow.keras.preprocessing import image\n",
    "from tensorflow.keras.applications.resnet50 import preprocess_input, decode_predictions"
   ]
  },
  {
   "cell_type": "code",
   "execution_count": 9,
   "id": "1527e8f9",
   "metadata": {},
   "outputs": [],
   "source": [
    "import numpy as np"
   ]
  },
  {
   "cell_type": "code",
   "execution_count": 15,
   "id": "c9b6186f",
   "metadata": {},
   "outputs": [],
   "source": [
    "model = ResNet50(weights = 'imagenet')\n",
    "img_path = 'Dinosaur.jpeg'\n",
    "img = image.load_img(img_path, target_size = (224,224))\n",
    "x = image.img_to_array(img)\n",
    "x = np.expand_dims(x,axis = 0)\n",
    "x = preprocess_input(x)"
   ]
  },
  {
   "cell_type": "code",
   "execution_count": 16,
   "id": "6d945243",
   "metadata": {},
   "outputs": [
    {
     "name": "stdout",
     "output_type": "stream",
     "text": [
      "WARNING:tensorflow:5 out of the last 6 calls to <function Model.make_predict_function.<locals>.predict_function at 0x0000018F8C572D40> triggered tf.function retracing. Tracing is expensive and the excessive number of tracings could be due to (1) creating @tf.function repeatedly in a loop, (2) passing tensors with different shapes, (3) passing Python objects instead of tensors. For (1), please define your @tf.function outside of the loop. For (2), @tf.function has reduce_retracing=True option that can avoid unnecessary retracing. For (3), please refer to https://www.tensorflow.org/guide/function#controlling_retracing and https://www.tensorflow.org/api_docs/python/tf/function for  more details.\n",
      "1/1 [==============================] - 11s 11s/step\n",
      "Predicted:  [('n02504013', 'Indian_elephant', 0.24227433), ('n01704323', 'triceratops', 0.140503), ('n01871265', 'tusker', 0.070811205)]\n"
     ]
    }
   ],
   "source": [
    "preds = model.predict(x)\n",
    "print(\"Predicted: \", decode_predictions(preds, top = 3)[0])"
   ]
  },
  {
   "cell_type": "code",
   "execution_count": null,
   "id": "1f787a9b",
   "metadata": {},
   "outputs": [],
   "source": []
  }
 ],
 "metadata": {
  "kernelspec": {
   "display_name": "Python 3 (ipykernel)",
   "language": "python",
   "name": "python3"
  },
  "language_info": {
   "codemirror_mode": {
    "name": "ipython",
    "version": 3
   },
   "file_extension": ".py",
   "mimetype": "text/x-python",
   "name": "python",
   "nbconvert_exporter": "python",
   "pygments_lexer": "ipython3",
   "version": "3.10.9"
  }
 },
 "nbformat": 4,
 "nbformat_minor": 5
}
