{
 "cells": [
  {
   "cell_type": "code",
   "execution_count": 1,
   "id": "14646c2f",
   "metadata": {},
   "outputs": [],
   "source": [
    "import numpy as np\n",
    "import pandas as pd\n",
    "import matplotlib.pyplot as plt\n",
    "import tensorflow\n",
    "from tensorflow import keras\n",
    "from tensorflow.keras import Sequential\n",
    "from tensorflow.keras.layers import Dense,Flatten"
   ]
  },
  {
   "cell_type": "code",
   "execution_count": 2,
   "id": "6cfe1703",
   "metadata": {},
   "outputs": [],
   "source": [
    "(X_train,y_train),(X_test,y_test) = keras.datasets.mnist.load_data()"
   ]
  },
  {
   "cell_type": "code",
   "execution_count": 3,
   "id": "0461d22f",
   "metadata": {},
   "outputs": [
    {
     "name": "stdout",
     "output_type": "stream",
     "text": [
      "(60000, 28, 28)\n"
     ]
    }
   ],
   "source": [
    "print(X_train.shape)"
   ]
  },
  {
   "cell_type": "code",
   "execution_count": 4,
   "id": "061f740d",
   "metadata": {},
   "outputs": [
    {
     "data": {
      "text/plain": [
       "<matplotlib.image.AxesImage at 0x2ab65b814b0>"
      ]
     },
     "execution_count": 4,
     "metadata": {},
     "output_type": "execute_result"
    },
    {
     "data": {
      "image/png": "[encoded data removed]",
      "text/plain": [
       "<Figure size 640x480 with 1 Axes>"
      ]
     },
     "metadata": {},
     "output_type": "display_data"
    }
   ],
   "source": [
    "plt.imshow(X_train[10])"
   ]
  },
  {
   "cell_type": "code",
   "execution_count": 5,
   "id": "45fcbbe4",
   "metadata": {},
   "outputs": [],
   "source": [
    "X_train = X_train/255\n",
    "X_test = X_test/255"
   ]
  },
  {
   "cell_type": "code",
   "execution_count": 6,
   "id": "838b333a",
   "metadata": {},
   "outputs": [],
   "source": [
    "model = Sequential()"
   ]
  },
  {
   "cell_type": "code",
   "execution_count": 7,
   "id": "68c996c6",
   "metadata": {},
   "outputs": [],
   "source": [
    "model.add(Flatten(input_shape=(28,28)))\n",
    "model.add(Dense(128,activation = 'relu'))\n",
    "model.add(Dense(10,activation = 'softmax'))"
   ]
  },
  {
   "cell_type": "code",
   "execution_count": 8,
   "id": "e1ad0923",
   "metadata": {},
   "outputs": [
    {
     "name": "stdout",
     "output_type": "stream",
     "text": [
      "Model: \"sequential\"\n",
      "_________________________________________________________________\n",
      " Layer (type)                Output Shape              Param #   \n",
      "=================================================================\n",
      " flatten (Flatten)           (None, 784)               0         \n",
      "                                                                 \n",
      " dense (Dense)               (None, 128)               100480    \n",
      "                                                                 \n",
      " dense_1 (Dense)             (None, 10)                1290      \n",
      "                                                                 \n",
      "=================================================================\n",
      "Total params: 101770 (397.54 KB)\n",
      "Trainable params: 101770 (397.54 KB)\n",
      "Non-trainable params: 0 (0.00 Byte)\n",
      "_________________________________________________________________\n"
     ]
    }
   ],
   "source": [
    "model.summary()"
   ]
  },
  {
   "cell_type": "code",
   "execution_count": 17,
   "id": "4821fced",
   "metadata": {},
   "outputs": [],
   "source": [
    "model.compile(loss ='sparse_categorical_crossentropy',optimizer = 'Adam',metrics = ['accuracy'])"
   ]
  },
  {
   "cell_type": "code",
   "execution_count": 18,
   "id": "7c40eede",
   "metadata": {},
   "outputs": [
    {
     "name": "stdout",
     "output_type": "stream",
     "text": [
      "Epoch 1/15\n",
      "1500/1500 [==============================] - 9s 5ms/step - loss: 0.0085 - accuracy: 0.9973 - val_loss: 0.1241 - val_accuracy: 0.9739\n",
      "Epoch 2/15\n",
      "1500/1500 [==============================] - 7s 5ms/step - loss: 0.0043 - accuracy: 0.9987 - val_loss: 0.1156 - val_accuracy: 0.9761\n",
      "Epoch 3/15\n",
      "1500/1500 [==============================] - 7s 5ms/step - loss: 0.0073 - accuracy: 0.9975 - val_loss: 0.1144 - val_accuracy: 0.9770\n",
      "Epoch 4/15\n",
      "1500/1500 [==============================] - 7s 5ms/step - loss: 0.0036 - accuracy: 0.9992 - val_loss: 0.1176 - val_accuracy: 0.9753\n",
      "Epoch 5/15\n",
      "1500/1500 [==============================] - 7s 5ms/step - loss: 0.0056 - accuracy: 0.9984 - val_loss: 0.1271 - val_accuracy: 0.9750\n",
      "Epoch 6/15\n",
      "1500/1500 [==============================] - 7s 5ms/step - loss: 0.0064 - accuracy: 0.9979 - val_loss: 0.1240 - val_accuracy: 0.9752\n",
      "Epoch 7/15\n",
      "1500/1500 [==============================] - 7s 5ms/step - loss: 0.0040 - accuracy: 0.9988 - val_loss: 0.1258 - val_accuracy: 0.9764\n",
      "Epoch 8/15\n",
      "1500/1500 [==============================] - 7s 5ms/step - loss: 0.0028 - accuracy: 0.9994 - val_loss: 0.1289 - val_accuracy: 0.9748\n",
      "Epoch 9/15\n",
      "1500/1500 [==============================] - 7s 5ms/step - loss: 0.0055 - accuracy: 0.9983 - val_loss: 0.1331 - val_accuracy: 0.9748\n",
      "Epoch 10/15\n",
      "1500/1500 [==============================] - 7s 5ms/step - loss: 0.0038 - accuracy: 0.9987 - val_loss: 0.1316 - val_accuracy: 0.9759\n",
      "Epoch 11/15\n",
      "1500/1500 [==============================] - 7s 5ms/step - loss: 0.0042 - accuracy: 0.9987 - val_loss: 0.1247 - val_accuracy: 0.9778\n",
      "Epoch 12/15\n",
      "1500/1500 [==============================] - 7s 5ms/step - loss: 0.0038 - accuracy: 0.9986 - val_loss: 0.1370 - val_accuracy: 0.9768\n",
      "Epoch 13/15\n",
      "1500/1500 [==============================] - 7s 5ms/step - loss: 0.0013 - accuracy: 0.9998 - val_loss: 0.1296 - val_accuracy: 0.9771\n",
      "Epoch 14/15\n",
      "1500/1500 [==============================] - 7s 5ms/step - loss: 2.9634e-04 - accuracy: 1.0000 - val_loss: 0.1325 - val_accuracy: 0.9782\n",
      "Epoch 15/15\n",
      "1500/1500 [==============================] - 7s 5ms/step - loss: 0.0071 - accuracy: 0.9975 - val_loss: 0.1617 - val_accuracy: 0.9734\n"
     ]
    }
   ],
   "source": [
    "history = model.fit(X_train,y_train,epochs = 15,validation_split = 0.2)"
   ]
  },
  {
   "cell_type": "code",
   "execution_count": 19,
   "id": "b5c67c21",
   "metadata": {},
   "outputs": [
    {
     "name": "stdout",
     "output_type": "stream",
     "text": [
      "313/313 [==============================] - 1s 2ms/step\n"
     ]
    }
   ],
   "source": [
    "y_prob = model.predict(X_test)"
   ]
  },
  {
   "cell_type": "code",
   "execution_count": 20,
   "id": "760743fe",
   "metadata": {},
   "outputs": [],
   "source": [
    "y_pred = y_prob.argmax(axis = 1)"
   ]
  },
  {
   "cell_type": "code",
   "execution_count": 21,
   "id": "5c2ae194",
   "metadata": {},
   "outputs": [
    {
     "name": "stdout",
     "output_type": "stream",
     "text": [
      "Accuracy:  0.9747\n"
     ]
    }
   ],
   "source": [
    "from sklearn.metrics import accuracy_score\n",
    "print(\"Accuracy: \",accuracy_score(y_pred,y_test))"
   ]
  },
  {
   "cell_type": "code",
   "execution_count": 22,
   "id": "6a76e7ba",
   "metadata": {},
   "outputs": [
    {
     "data": {
      "text/plain": [
       "[<matplotlib.lines.Line2D at 0x2ab16f03460>]"
      ]
     },
     "execution_count": 22,
     "metadata": {},
     "output_type": "execute_result"
    },
    {
     "data": {
      "image/png": "[encoded data removed]",
      "text/plain": [
       "<Figure size 640x480 with 1 Axes>"
      ]
     },
     "metadata": {},
     "output_type": "display_data"
    }
   ],
   "source": [
    "plt.plot(history.history['loss'])\n",
    "plt.plot(history.history['accuracy'])\n",
    "plt.plot(history.history['val_accuracy'])"
   ]
  },
  {
   "cell_type": "code",
   "execution_count": null,
   "id": "488f45a9",
   "metadata": {},
   "outputs": [],
   "source": []
  }
 ],
 "metadata": {
  "kernelspec": {
   "display_name": "Python 3 (ipykernel)",
   "language": "python",
   "name": "python3"
  },
  "language_info": {
   "codemirror_mode": {
    "name": "ipython",
    "version": 3
   },
   "file_extension": ".py",
   "mimetype": "text/x-python",
   "name": "python",
   "nbconvert_exporter": "python",
   "pygments_lexer": "ipython3",
   "version": "3.10.9"
  }
 },
 "nbformat": 4,
 "nbformat_minor": 5
}
