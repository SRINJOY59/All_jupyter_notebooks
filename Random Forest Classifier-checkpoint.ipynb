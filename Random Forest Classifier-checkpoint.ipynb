{
 "cells": [
  {
   "cell_type": "code",
   "execution_count": null,
   "id": "3f456d27",
   "metadata": {},
   "outputs": [],
   "source": [
    "from sklearn.ensemble import RandomForestClassifier\n",
    "from sklearn.ensemble import RandomForestRegressor\n",
    "import numpy as np\n",
    "import pandas as pd\n",
    "import matplotlib.pyplot as plt\n",
    "from sklearn.datasets import load_iris,fetch_california_housing\n",
    "from sklearn.model_selection import train_test_split"
   ]
  },
  {
   "cell_type": "code",
   "execution_count": null,
   "id": "08c43104",
   "metadata": {},
   "outputs": [],
   "source": [
    "df1 = load_iris()\n",
    "df2 = fetch_california_housing()\n",
    "X = df1.data\n",
    "Y = df1.target\n",
    "x = df2.data\n",
    "y = df2.target"
   ]
  },
  {
   "cell_type": "code",
   "execution_count": null,
   "id": "cf8d607f",
   "metadata": {},
   "outputs": [],
   "source": [
    "X_train, X_test, Y_train, Y_test = train_test_split(X, Y, test_size=0.2, random_state=42)\n",
    "x_train, x_test, y_train, y_test = train_test_split(x, y, test_size=0.2, random_state=42)"
   ]
  },
  {
   "cell_type": "code",
   "execution_count": null,
   "id": "bd03ed0f",
   "metadata": {},
   "outputs": [],
   "source": [
    "rf_classification = RandomForestClassifier(n_estimators = 100)\n",
    "rf_regression = RandomForestRegressor(n_estimators = 200)"
   ]
  },
  {
   "cell_type": "code",
   "execution_count": null,
   "id": "8ae0ef32",
   "metadata": {},
   "outputs": [],
   "source": [
    "rf_classification.fit(X_train,Y_train)\n",
    "rf_regression.fit(x_train,y_train)"
   ]
  },
  {
   "cell_type": "code",
   "execution_count": null,
   "id": "a5b85dae",
   "metadata": {},
   "outputs": [],
   "source": [
    "from sklearn.metrics import accuracy_score,r2_score,classification_report,confusion_matrix"
   ]
  },
  {
   "cell_type": "code",
   "execution_count": null,
   "id": "7eb70933",
   "metadata": {},
   "outputs": [],
   "source": [
    "Y_pred = rf_classification.predict(X_test)\n",
    "y_pred = rf_regression.predict(x_test)"
   ]
  },
  {
   "cell_type": "code",
   "execution_count": null,
   "id": "6bd60961",
   "metadata": {},
   "outputs": [],
   "source": [
    "accuracy = accuracy_score(Y_test,Y_pred)\n",
    "print(\"Accuracy score of Classifier: \",accuracy*100,\"%\")"
   ]
  },
  {
   "cell_type": "code",
   "execution_count": null,
   "id": "02ed985b",
   "metadata": {},
   "outputs": [],
   "source": [
    "r2 = r2_score(y_test,y_pred)\n",
    "print(\"r2 score of Regressor: \",r2)"
   ]
  },
  {
   "cell_type": "code",
   "execution_count": null,
   "id": "6301e382",
   "metadata": {},
   "outputs": [],
   "source": [
    "print(confusion_matrix(Y_test,Y_pred))\n",
    "print(classification_report(Y_test,Y_pred))"
   ]
  },
  {
   "cell_type": "code",
   "execution_count": null,
   "id": "a45a2780",
   "metadata": {},
   "outputs": [],
   "source": [
    "#Finding proper n_estimators"
   ]
  },
  {
   "cell_type": "code",
   "execution_count": null,
   "id": "3a4a8e55",
   "metadata": {},
   "outputs": [],
   "source": [
    "error_rate_clf = []\n",
    "error_rate_reg = []\n",
    "for i in range(1,20):\n",
    "    rf_classification = RandomForestClassifier(n_estimators = i)\n",
    "    rf_regression = RandomForestRegressor(n_estimators = i)\n",
    "    rf_classification.fit(X_train,Y_train)\n",
    "    rf_regression.fit(x_train,y_train)\n",
    "    pred_clf_i = rf_classification.predict(X_test)\n",
    "    pred_reg_i = rf_regression.predict(x_test)\n",
    "    error_rate_clf.append(np.mean(pred_clf_i!=Y_test))\n",
    "    error_rate_reg.append(np.mean(pred_reg_i!=y_test))"
   ]
  },
  {
   "cell_type": "code",
   "execution_count": null,
   "id": "7a90c8ef",
   "metadata": {},
   "outputs": [],
   "source": [
    "plt.figure(figsize = (30,10))\n",
    "plt.plot(range(1,1000),error_rate_clf,color = 'blue',linestyle = 'dashed',marker = 'o',markerfacecolor = 'red',markersize = 10)\n",
    "plt.plot(range(1,1000),error_rate_reg,color = 'green',linestyle = 'dashed',marker = 'o',markerfacecolor = 'red',markersize = 10)\n",
    "plt.title('Error Rate vs Estimators')\n",
    "plt.xlabel('Estimators')\n",
    "plt.ylabel('Error Rate')"
   ]
  },
  {
   "cell_type": "code",
   "execution_count": null,
   "id": "82b9b66f",
   "metadata": {},
   "outputs": [],
   "source": []
  },
  {
   "cell_type": "code",
   "execution_count": null,
   "id": "40ec3bb7",
   "metadata": {},
   "outputs": [],
   "source": []
  },
  {
   "cell_type": "code",
   "execution_count": null,
   "id": "c3526a75",
   "metadata": {},
   "outputs": [],
   "source": []
  }
 ],
 "metadata": {
  "kernelspec": {
   "display_name": "Python 3 (ipykernel)",
   "language": "python",
   "name": "python3"
  },
  "language_info": {
   "codemirror_mode": {
    "name": "ipython",
    "version": 3
   },
   "file_extension": ".py",
   "mimetype": "text/x-python",
   "name": "python",
   "nbconvert_exporter": "python",
   "pygments_lexer": "ipython3",
   "version": "3.10.9"
  }
 },
 "nbformat": 4,
 "nbformat_minor": 5
}
