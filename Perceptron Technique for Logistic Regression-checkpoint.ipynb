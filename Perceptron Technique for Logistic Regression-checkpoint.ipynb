{
 "cells": [
  {
   "cell_type": "code",
   "execution_count": 261,
   "id": "30ebcdf1",
   "metadata": {},
   "outputs": [],
   "source": [
    "from sklearn.datasets import load_breast_cancer\n",
    "import numpy as np\n",
    "import pandas as pd"
   ]
  },
  {
   "cell_type": "code",
   "execution_count": 262,
   "id": "a9c6bab5",
   "metadata": {},
   "outputs": [],
   "source": [
    "data = load_breast_cancer()"
   ]
  },
  {
   "cell_type": "code",
   "execution_count": 263,
   "id": "220d971d",
   "metadata": {},
   "outputs": [
    {
     "name": "stdout",
     "output_type": "stream",
     "text": [
      "       0      1       2       3        4        5        6        7       8   \\\n",
      "0   17.99  10.38  122.80  1001.0  0.11840  0.27760  0.30010  0.14710  0.2419   \n",
      "0   20.57  17.77  132.90  1326.0  0.08474  0.07864  0.08690  0.07017  0.1812   \n",
      "0   19.69  21.25  130.00  1203.0  0.10960  0.15990  0.19740  0.12790  0.2069   \n",
      "0   11.42  20.38   77.58   386.1  0.14250  0.28390  0.24140  0.10520  0.2597   \n",
      "0   20.29  14.34  135.10  1297.0  0.10030  0.13280  0.19800  0.10430  0.1809   \n",
      "..    ...    ...     ...     ...      ...      ...      ...      ...     ...   \n",
      "0   21.56  22.39  142.00  1479.0  0.11100  0.11590  0.24390  0.13890  0.1726   \n",
      "0   20.13  28.25  131.20  1261.0  0.09780  0.10340  0.14400  0.09791  0.1752   \n",
      "0   16.60  28.08  108.30   858.1  0.08455  0.10230  0.09251  0.05302  0.1590   \n",
      "0   20.60  29.33  140.10  1265.0  0.11780  0.27700  0.35140  0.15200  0.2397   \n",
      "1    7.76  24.54   47.92   181.0  0.05263  0.04362  0.00000  0.00000  0.1587   \n",
      "\n",
      "         9   ...      20     21      22      23       24       25      26  \\\n",
      "0   0.07871  ...  25.380  17.33  184.60  2019.0  0.16220  0.66560  0.7119   \n",
      "0   0.05667  ...  24.990  23.41  158.80  1956.0  0.12380  0.18660  0.2416   \n",
      "0   0.05999  ...  23.570  25.53  152.50  1709.0  0.14440  0.42450  0.4504   \n",
      "0   0.09744  ...  14.910  26.50   98.87   567.7  0.20980  0.86630  0.6869   \n",
      "0   0.05883  ...  22.540  16.67  152.20  1575.0  0.13740  0.20500  0.4000   \n",
      "..      ...  ...     ...    ...     ...     ...      ...      ...     ...   \n",
      "0   0.05623  ...  25.450  26.40  166.10  2027.0  0.14100  0.21130  0.4107   \n",
      "0   0.05533  ...  23.690  38.25  155.00  1731.0  0.11660  0.19220  0.3215   \n",
      "0   0.05648  ...  18.980  34.12  126.70  1124.0  0.11390  0.30940  0.3403   \n",
      "0   0.07016  ...  25.740  39.42  184.60  1821.0  0.16500  0.86810  0.9387   \n",
      "1   0.05884  ...   9.456  30.37   59.16   268.6  0.08996  0.06444  0.0000   \n",
      "\n",
      "        27      28       29  \n",
      "0   0.2654  0.4601  0.11890  \n",
      "0   0.1860  0.2750  0.08902  \n",
      "0   0.2430  0.3613  0.08758  \n",
      "0   0.2575  0.6638  0.17300  \n",
      "0   0.1625  0.2364  0.07678  \n",
      "..     ...     ...      ...  \n",
      "0   0.2216  0.2060  0.07115  \n",
      "0   0.1628  0.2572  0.06637  \n",
      "0   0.1418  0.2218  0.07820  \n",
      "0   0.2650  0.4087  0.12400  \n",
      "1   0.0000  0.2871  0.07039  \n",
      "\n",
      "[569 rows x 30 columns]\n"
     ]
    }
   ],
   "source": [
    "print(pd.DataFrame(data.data,data.target))"
   ]
  },
  {
   "cell_type": "code",
   "execution_count": 264,
   "id": "3c1fd16b",
   "metadata": {},
   "outputs": [
    {
     "name": "stdout",
     "output_type": "stream",
     "text": [
      "[[ 1.     17.99   10.38   ...  0.7119  0.2654  0.4601]\n",
      " [ 1.     20.57   17.77   ...  0.2416  0.186   0.275 ]\n",
      " [ 1.     19.69   21.25   ...  0.4504  0.243   0.3613]\n",
      " ...\n",
      " [ 1.     16.6    28.08   ...  0.3403  0.1418  0.2218]\n",
      " [ 1.     20.6    29.33   ...  0.9387  0.265   0.4087]\n",
      " [ 1.      7.76   24.54   ...  0.      0.      0.2871]]\n"
     ]
    }
   ],
   "source": [
    "X = data.data\n",
    "y = data.target\n",
    "X = X[:,:-1]\n",
    "#print(X)\n",
    "X = np.insert(X,0,1,axis = 1)\n",
    "print(X)"
   ]
  },
  {
   "cell_type": "code",
   "execution_count": 265,
   "id": "b960e8ae",
   "metadata": {},
   "outputs": [],
   "source": [
    "def step(z):\n",
    "    if z>=0:\n",
    "        return 1\n",
    "    else:\n",
    "        return 0"
   ]
  },
  {
   "cell_type": "code",
   "execution_count": 275,
   "id": "6bdaa971",
   "metadata": {},
   "outputs": [],
   "source": [
    "def perceptron(X, y,lr):\n",
    "    weights = np.ones(X.shape[1])\n",
    "    for i in range(1000):\n",
    "        j = np.random.randint(0,len(X))\n",
    "        y_hat = step(np.dot(X[j], weights))\n",
    "        weights = weights + lr * (y[j] - y_hat) * X[j]\n",
    "    return weights[0], weights[1:]\n",
    "\n",
    "        "
   ]
  },
  {
   "cell_type": "code",
   "execution_count": 276,
   "id": "a3204d76",
   "metadata": {},
   "outputs": [],
   "source": [
    "from sklearn.model_selection import train_test_split"
   ]
  },
  {
   "cell_type": "code",
   "execution_count": 277,
   "id": "f2aa3309",
   "metadata": {},
   "outputs": [],
   "source": [
    "X_train,X_test,y_train,y_test = train_test_split(X,y,test_size = 0.2,random_state = 25)"
   ]
  },
  {
   "cell_type": "code",
   "execution_count": 285,
   "id": "80dd9eaf",
   "metadata": {},
   "outputs": [],
   "source": [
    "perceptron_model  = perceptron(X_train,y_train,0.01)"
   ]
  },
  {
   "cell_type": "code",
   "execution_count": 286,
   "id": "ad465707",
   "metadata": {},
   "outputs": [
    {
     "name": "stdout",
     "output_type": "stream",
     "text": [
      "(1.9200000000000008, array([  8.28817   ,  13.4423    ,  44.9362    ,  37.489     ,\n",
      "         1.0758831 ,   1.0145742 ,   0.93437162,   0.97154426,\n",
      "         1.14742   ,   1.056213  ,   0.991323  ,   1.872826  ,\n",
      "         0.661147  , -23.00729   ,   1.00443015,   1.00101422,\n",
      "         0.99558085,   1.00168398,   1.01530063,   1.00149083,\n",
      "         8.33269   ,  17.5414    ,  43.6746    , -42.277     ,\n",
      "         1.1024596 ,   1.0153463 ,   0.92183602,   0.98706033,\n",
      "         1.224069  ]))\n"
     ]
    }
   ],
   "source": [
    "print(perceptron_model)"
   ]
  },
  {
   "cell_type": "code",
   "execution_count": 287,
   "id": "8b0c4b0f",
   "metadata": {},
   "outputs": [
    {
     "name": "stdout",
     "output_type": "stream",
     "text": [
      "[  1.92         8.28817     13.4423      44.9362      37.489\n",
      "   1.0758831    1.0145742    0.93437162   0.97154426   1.14742\n",
      "   1.056213     0.991323     1.872826     0.661147   -23.00729\n",
      "   1.00443015   1.00101422   0.99558085   1.00168398   1.01530063\n",
      "   1.00149083   8.33269     17.5414      43.6746     -42.277\n",
      "   1.1024596    1.0153463    0.92183602   0.98706033   1.224069  ]\n"
     ]
    }
   ],
   "source": [
    "model = np.hstack((perceptron_model[0],perceptron_model[1]))\n",
    "print(model)"
   ]
  },
  {
   "cell_type": "code",
   "execution_count": 288,
   "id": "e95d30de",
   "metadata": {},
   "outputs": [],
   "source": [
    "y_pred = []\n",
    "for i in range(len(X_test)):\n",
    "    y_pred.append(step(np.dot(model, X_test[i])))"
   ]
  },
  {
   "cell_type": "code",
   "execution_count": 289,
   "id": "b3194461",
   "metadata": {},
   "outputs": [],
   "source": [
    "from sklearn.metrics import accuracy_score\n",
    "accuracy = accuracy_score(y_pred,y_test)"
   ]
  },
  {
   "cell_type": "code",
   "execution_count": 290,
   "id": "f1c2566b",
   "metadata": {},
   "outputs": [
    {
     "name": "stdout",
     "output_type": "stream",
     "text": [
      "Accuracy:  84.21052631578947 %\n"
     ]
    }
   ],
   "source": [
    "print(\"Accuracy: \",accuracy*100,\"%\")"
   ]
  },
  {
   "cell_type": "code",
   "execution_count": 284,
   "id": "b430f665",
   "metadata": {},
   "outputs": [],
   "source": [
    "#getting the best Learning Rate"
   ]
  },
  {
   "cell_type": "code",
   "execution_count": 296,
   "id": "71d8e0c3",
   "metadata": {},
   "outputs": [
    {
     "name": "stdout",
     "output_type": "stream",
     "text": [
      "Accuracy: 0.9649122807017544\n",
      "Accuracy: 0.9649122807017544\n"
     ]
    }
   ],
   "source": [
    "import numpy as np\n",
    "from sklearn.datasets import load_breast_cancer\n",
    "from sklearn.model_selection import train_test_split\n",
    "\n",
    "def perceptron_train(X_train, y_train, learning_rate=0.1, epochs=100):\n",
    "    num_features = X_train.shape[1]\n",
    "    weights = np.ones(num_features + 1)\n",
    "\n",
    "    for _ in range(epochs):\n",
    "        for inputs, label in zip(X_train, y_train):\n",
    "            inputs = np.insert(inputs, 0, 1)  # Add bias term\n",
    "            prediction = np.dot(inputs, weights)\n",
    "\n",
    "            if prediction >= 0:\n",
    "                activation = 1\n",
    "            else:\n",
    "                activation = 0\n",
    "\n",
    "            weights += learning_rate * (label - activation) * inputs\n",
    "\n",
    "    return weights\n",
    "\n",
    "def perceptron_predict(X_test, weights):\n",
    "    y_pred = []\n",
    "\n",
    "    for inputs in X_test:\n",
    "        inputs = np.insert(inputs, 0, 1)  # Add bias term\n",
    "        prediction = np.dot(inputs, weights)\n",
    "\n",
    "        if prediction >= 0:\n",
    "            y_pred.append(1)\n",
    "        else:\n",
    "            y_pred.append(0)\n",
    "\n",
    "    return y_pred\n",
    "\n",
    "# Load breast cancer dataset\n",
    "data = load_breast_cancer()\n",
    "X = data.data\n",
    "y = data.target\n",
    "\n",
    "# Split the dataset into training and test sets\n",
    "X_train, X_test, y_train, y_test = train_test_split(X, y, test_size=0.2, random_state=42)\n",
    "\n",
    "# Train the perceptron\n",
    "weights = perceptron_train(X_train, y_train, learning_rate=0.1, epochs=100)\n",
    "\n",
    "# Predict using the trained perceptron\n",
    "y_pred = perceptron_predict(X_test, weights)\n",
    "\n",
    "# Evaluate the accuracy\n",
    "from sklearn.metrics import accuracy_score\n",
    "accuracy1 = np.mean(y_pred == y_test)\n",
    "print(\"Accuracy:\", accuracy1)\n",
    "accuracy2 = accuracy_score(y_pred,y_test)\n",
    "print(\"Accuracy:\", accuracy2)"
   ]
  },
  {
   "cell_type": "code",
   "execution_count": null,
   "id": "6093ab6c",
   "metadata": {},
   "outputs": [],
   "source": []
  },
  {
   "cell_type": "code",
   "execution_count": null,
   "id": "76136096",
   "metadata": {},
   "outputs": [],
   "source": []
  }
 ],
 "metadata": {
  "kernelspec": {
   "display_name": "Python 3 (ipykernel)",
   "language": "python",
   "name": "python3"
  },
  "language_info": {
   "codemirror_mode": {
    "name": "ipython",
    "version": 3
   },
   "file_extension": ".py",
   "mimetype": "text/x-python",
   "name": "python",
   "nbconvert_exporter": "python",
   "pygments_lexer": "ipython3",
   "version": "3.10.9"
  }
 },
 "nbformat": 4,
 "nbformat_minor": 5
}
